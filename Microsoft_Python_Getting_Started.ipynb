{
  "nbformat": 4,
  "nbformat_minor": 0,
  "metadata": {
    "colab": {
      "name": "Microsoft - Python Getting Started.ipynb",
      "provenance": [],
      "collapsed_sections": [],
      "authorship_tag": "ABX9TyPb+eWe9Nj53sSTJU3qD3rt",
      "include_colab_link": true
    },
    "kernelspec": {
      "name": "python3",
      "display_name": "Python 3"
    }
  },
  "cells": [
    {
      "cell_type": "markdown",
      "metadata": {
        "id": "view-in-github",
        "colab_type": "text"
      },
      "source": [
        "<a href=\"https://colab.research.google.com/github/nkjadhav/Google-Colaboratory/blob/master/Microsoft_Python_Getting_Started.ipynb\" target=\"_parent\"><img src=\"https://colab.research.google.com/assets/colab-badge.svg\" alt=\"Open In Colab\"/></a>"
      ]
    },
    {
      "cell_type": "markdown",
      "metadata": {
        "id": "5b4s4Prdn5zu",
        "colab_type": "text"
      },
      "source": [
        "# Print"
      ]
    },
    {
      "cell_type": "code",
      "metadata": {
        "id": "sgp7ChKBdnAp",
        "colab_type": "code",
        "outputId": "f418e844-20b7-45bd-ec6f-c38fde054e05",
        "colab": {
          "base_uri": "https://localhost:8080/",
          "height": 34
        }
      },
      "source": [
        "print('Hello with single quote.')"
      ],
      "execution_count": 0,
      "outputs": [
        {
          "output_type": "stream",
          "text": [
            "Hello with single quote.\n"
          ],
          "name": "stdout"
        }
      ]
    },
    {
      "cell_type": "code",
      "metadata": {
        "id": "EemV0B_bdal-",
        "colab_type": "code",
        "outputId": "d97f5fb0-6f30-4d43-ec40-698241ba69af",
        "colab": {
          "base_uri": "https://localhost:8080/",
          "height": 34
        }
      },
      "source": [
        "print(\"Hello with double quote.\")"
      ],
      "execution_count": 0,
      "outputs": [
        {
          "output_type": "stream",
          "text": [
            "Hello with double quote.\n"
          ],
          "name": "stdout"
        }
      ]
    },
    {
      "cell_type": "code",
      "metadata": {
        "id": "jPmkuc-lddYy",
        "colab_type": "code",
        "outputId": "1bbf9afa-c1f7-4d03-e2c5-b8b53dd24aad",
        "colab": {
          "base_uri": "https://localhost:8080/",
          "height": 50
        }
      },
      "source": [
        "print(\"Hello \\nWorld..\")"
      ],
      "execution_count": 0,
      "outputs": [
        {
          "output_type": "stream",
          "text": [
            "Hello \n",
            "World..\n"
          ],
          "name": "stdout"
        }
      ]
    },
    {
      "cell_type": "code",
      "metadata": {
        "id": "bxZWFkjzdhOo",
        "colab_type": "code",
        "outputId": "f5e185be-6253-4286-aa67-da931fdb7427",
        "colab": {
          "base_uri": "https://localhost:8080/",
          "height": 84
        }
      },
      "source": [
        "name = input(\"What is your name :\")\n",
        "print(name)\n",
        "print() # New Line\n",
        "print(name)"
      ],
      "execution_count": 0,
      "outputs": [
        {
          "output_type": "stream",
          "text": [
            "What is your name :NJ\n",
            "NJ\n",
            "\n",
            "NJ\n"
          ],
          "name": "stdout"
        }
      ]
    },
    {
      "cell_type": "code",
      "metadata": {
        "id": "ZYasySDJeiFo",
        "colab_type": "code",
        "outputId": "f4410652-6633-4402-c564-63b0c13964d4",
        "colab": {
          "base_uri": "https://localhost:8080/",
          "height": 246
        }
      },
      "source": [
        "# Debugging with print\n",
        "print(\"Adding Numbers\")\n",
        "x = 2+3\n",
        "print(\"Performing Division\")\n",
        "y = x / 0 # Intentionally dividing with zero.\n",
        "print(\"Completed\")"
      ],
      "execution_count": 0,
      "outputs": [
        {
          "output_type": "stream",
          "text": [
            "Adding Numbers\n",
            "Performing Division\n"
          ],
          "name": "stdout"
        },
        {
          "output_type": "error",
          "ename": "ZeroDivisionError",
          "evalue": "ignored",
          "traceback": [
            "\u001b[0;31m---------------------------------------------------------------------------\u001b[0m",
            "\u001b[0;31mZeroDivisionError\u001b[0m                         Traceback (most recent call last)",
            "\u001b[0;32m<ipython-input-15-c9e27e4e313c>\u001b[0m in \u001b[0;36m<module>\u001b[0;34m()\u001b[0m\n\u001b[1;32m      2\u001b[0m \u001b[0mx\u001b[0m \u001b[0;34m=\u001b[0m \u001b[0;36m2\u001b[0m\u001b[0;34m+\u001b[0m\u001b[0;36m3\u001b[0m\u001b[0;34m\u001b[0m\u001b[0;34m\u001b[0m\u001b[0m\n\u001b[1;32m      3\u001b[0m \u001b[0mprint\u001b[0m\u001b[0;34m(\u001b[0m\u001b[0;34m\"Performing Division\"\u001b[0m\u001b[0;34m)\u001b[0m\u001b[0;34m\u001b[0m\u001b[0;34m\u001b[0m\u001b[0m\n\u001b[0;32m----> 4\u001b[0;31m \u001b[0my\u001b[0m \u001b[0;34m=\u001b[0m \u001b[0mx\u001b[0m \u001b[0;34m/\u001b[0m \u001b[0;36m0\u001b[0m \u001b[0;31m# Intentionally dividing with zero.\u001b[0m\u001b[0;34m\u001b[0m\u001b[0;34m\u001b[0m\u001b[0m\n\u001b[0m\u001b[1;32m      5\u001b[0m \u001b[0mprint\u001b[0m\u001b[0;34m(\u001b[0m\u001b[0;34m\"Completed\"\u001b[0m\u001b[0;34m)\u001b[0m\u001b[0;34m\u001b[0m\u001b[0;34m\u001b[0m\u001b[0m\n",
            "\u001b[0;31mZeroDivisionError\u001b[0m: division by zero"
          ]
        }
      ]
    },
    {
      "cell_type": "code",
      "metadata": {
        "colab_type": "code",
        "outputId": "13edca5c-4e76-4c6b-a1f8-8a2f34f00aad",
        "id": "H87hAybne9ff",
        "colab": {
          "base_uri": "https://localhost:8080/",
          "height": 67
        }
      },
      "source": [
        "print(\"Adding Numbers\")\n",
        "x = 2+3\n",
        "print(\"Performing Division\")\n",
        "y = x / 1\n",
        "print(\"Completed\")"
      ],
      "execution_count": 0,
      "outputs": [
        {
          "output_type": "stream",
          "text": [
            "Adding Numbers\n",
            "Performing Division\n",
            "Completed\n"
          ],
          "name": "stdout"
        }
      ]
    },
    {
      "cell_type": "code",
      "metadata": {
        "id": "hGz5IDsbfAPg",
        "colab_type": "code",
        "outputId": "ce7ae355-382a-4002-82d3-adb125ef3bbb",
        "colab": {
          "base_uri": "https://localhost:8080/",
          "height": 34
        }
      },
      "source": [
        "print(type(name))"
      ],
      "execution_count": 0,
      "outputs": [
        {
          "output_type": "stream",
          "text": [
            "<class 'str'>\n"
          ],
          "name": "stdout"
        }
      ]
    },
    {
      "cell_type": "code",
      "metadata": {
        "id": "mEYdnCfqgZKp",
        "colab_type": "code",
        "outputId": "1847d62b-88d5-42ea-b00e-1b743a4b53a2",
        "colab": {
          "base_uri": "https://localhost:8080/",
          "height": 34
        }
      },
      "source": [
        "print(type(x))"
      ],
      "execution_count": 0,
      "outputs": [
        {
          "output_type": "stream",
          "text": [
            "<class 'int'>\n"
          ],
          "name": "stdout"
        }
      ]
    },
    {
      "cell_type": "code",
      "metadata": {
        "id": "yZwLPNc-gdEj",
        "colab_type": "code",
        "outputId": "f109205f-21e4-41a8-c0ac-272bf8dcccbe",
        "colab": {
          "base_uri": "https://localhost:8080/",
          "height": 34
        }
      },
      "source": [
        "x = 'Hello' + ' ' + 'World!'\n",
        "print(x) # outputs: Hello World!"
      ],
      "execution_count": 0,
      "outputs": [
        {
          "output_type": "stream",
          "text": [
            "Hello World!\n"
          ],
          "name": "stdout"
        }
      ]
    },
    {
      "cell_type": "markdown",
      "metadata": {
        "id": "NXtkiOkkoGm0",
        "colab_type": "text"
      },
      "source": [
        "# Comment"
      ]
    },
    {
      "cell_type": "code",
      "metadata": {
        "id": "iqsZXqFdglJZ",
        "colab_type": "code",
        "outputId": "d41c80e2-d48b-41e0-de3e-4af296d5a6e4",
        "colab": {
          "base_uri": "https://localhost:8080/",
          "height": 34
        }
      },
      "source": [
        "# I am a comment...\n",
        "x = 1   # the rest of the line is a comment\n",
        "        # ... and this is a 3rd comment\n",
        "text = \"# But this isn't a comment because it's a string literal and in quotes.\"\n",
        "text\n",
        "# This is a comment\n",
        "# that crosses multiple lines"
      ],
      "execution_count": 0,
      "outputs": [
        {
          "output_type": "execute_result",
          "data": {
            "text/plain": [
              "\"# But this isn't a comment because it's a string literal and in quotes.\""
            ]
          },
          "metadata": {
            "tags": []
          },
          "execution_count": 22
        }
      ]
    },
    {
      "cell_type": "markdown",
      "metadata": {
        "id": "cLbGe-Q-oNWM",
        "colab_type": "text"
      },
      "source": [
        "# String"
      ]
    },
    {
      "cell_type": "code",
      "metadata": {
        "id": "or78M-UOgve9",
        "colab_type": "code",
        "outputId": "06fea98f-dd84-4e65-93f3-0c480592b249",
        "colab": {
          "base_uri": "https://localhost:8080/",
          "height": 34
        }
      },
      "source": [
        "x = 5\n",
        "print('The number is ' + str(x))"
      ],
      "execution_count": 0,
      "outputs": [
        {
          "output_type": "stream",
          "text": [
            "The number is 5\n"
          ],
          "name": "stdout"
        }
      ]
    },
    {
      "cell_type": "code",
      "metadata": {
        "id": "sLn3i32NhAUl",
        "colab_type": "code",
        "colab": {}
      },
      "source": [
        "first_name = \"Nilkanth\"\n",
        "last_name = \"JADHAV\""
      ],
      "execution_count": 0,
      "outputs": []
    },
    {
      "cell_type": "code",
      "metadata": {
        "id": "Du4jxRapk4DB",
        "colab_type": "code",
        "outputId": "8fb1d993-8d82-4bae-953b-056cd1a16357",
        "colab": {
          "base_uri": "https://localhost:8080/",
          "height": 34
        }
      },
      "source": [
        "first_name.upper()"
      ],
      "execution_count": 0,
      "outputs": [
        {
          "output_type": "execute_result",
          "data": {
            "text/plain": [
              "'NILKANTH'"
            ]
          },
          "metadata": {
            "tags": []
          },
          "execution_count": 25
        }
      ]
    },
    {
      "cell_type": "code",
      "metadata": {
        "id": "mnW2-fkok73M",
        "colab_type": "code",
        "outputId": "dd9a5088-b2cb-4159-f6ef-c2aed29806e6",
        "colab": {
          "base_uri": "https://localhost:8080/",
          "height": 34
        }
      },
      "source": [
        "last_name.lower()"
      ],
      "execution_count": 0,
      "outputs": [
        {
          "output_type": "execute_result",
          "data": {
            "text/plain": [
              "'jadhav'"
            ]
          },
          "metadata": {
            "tags": []
          },
          "execution_count": 26
        }
      ]
    },
    {
      "cell_type": "code",
      "metadata": {
        "id": "YGdWByvYlAov",
        "colab_type": "code",
        "outputId": "decd8aab-5b84-4bce-d336-d8740564226d",
        "colab": {
          "base_uri": "https://localhost:8080/",
          "height": 34
        }
      },
      "source": [
        "first_name.capitalize() + \" \" + last_name.capitalize()"
      ],
      "execution_count": 0,
      "outputs": [
        {
          "output_type": "execute_result",
          "data": {
            "text/plain": [
              "'Nilkanth Jadhav'"
            ]
          },
          "metadata": {
            "tags": []
          },
          "execution_count": 27
        }
      ]
    },
    {
      "cell_type": "code",
      "metadata": {
        "id": "C4_m7hgWnIUy",
        "colab_type": "code",
        "outputId": "037d89b7-8883-4a34-849f-7b8c2e3fd55f",
        "colab": {
          "base_uri": "https://localhost:8080/",
          "height": 34
        }
      },
      "source": [
        "print(\"Hello, \" + first_name + \" \" + last_name)"
      ],
      "execution_count": 0,
      "outputs": [
        {
          "output_type": "stream",
          "text": [
            "Hello, Nilkanth JADHAV\n"
          ],
          "name": "stdout"
        }
      ]
    },
    {
      "cell_type": "code",
      "metadata": {
        "id": "OMu_b4acnX4A",
        "colab_type": "code",
        "outputId": "ab04787a-f6e4-4c95-e124-ebce1e667383",
        "colab": {
          "base_uri": "https://localhost:8080/",
          "height": 34
        }
      },
      "source": [
        "output = \"Hello, {} {}\".format(first_name, last_name)\n",
        "print(output)"
      ],
      "execution_count": 0,
      "outputs": [
        {
          "output_type": "stream",
          "text": [
            "Hello, Nilkanth JADHAV\n"
          ],
          "name": "stdout"
        }
      ]
    },
    {
      "cell_type": "code",
      "metadata": {
        "id": "K50N0FfWolLY",
        "colab_type": "code",
        "outputId": "370105ed-1012-4bb4-972d-dbf8346b6e51",
        "colab": {
          "base_uri": "https://localhost:8080/",
          "height": 34
        }
      },
      "source": [
        "output = \"Hello, {1}, {0}\".format(first_name, last_name)\n",
        "print(output)"
      ],
      "execution_count": 0,
      "outputs": [
        {
          "output_type": "stream",
          "text": [
            "Hello, JADHAV, Nilkanth\n"
          ],
          "name": "stdout"
        }
      ]
    },
    {
      "cell_type": "code",
      "metadata": {
        "id": "LmhqtW_HpHUY",
        "colab_type": "code",
        "outputId": "c7d50868-f533-4a6c-fff8-ce98ee5aeb4b",
        "colab": {
          "base_uri": "https://localhost:8080/",
          "height": 34
        }
      },
      "source": [
        "f\"Hello, {first_name} {last_name}\""
      ],
      "execution_count": 0,
      "outputs": [
        {
          "output_type": "execute_result",
          "data": {
            "text/plain": [
              "'Hello, Nilkanth JADHAV'"
            ]
          },
          "metadata": {
            "tags": []
          },
          "execution_count": 37
        }
      ]
    },
    {
      "cell_type": "code",
      "metadata": {
        "id": "Cd07wsQ6lJWb",
        "colab_type": "code",
        "outputId": "5ae1894e-0421-4478-abf8-051f77ed8be5",
        "colab": {
          "base_uri": "https://localhost:8080/",
          "height": 34
        }
      },
      "source": [
        "output = f\"Hello, {first_name} {last_name}\"\n",
        "print(output)"
      ],
      "execution_count": 0,
      "outputs": [
        {
          "output_type": "stream",
          "text": [
            "Hello, Nilkanth JADHAV\n"
          ],
          "name": "stdout"
        }
      ]
    },
    {
      "cell_type": "markdown",
      "metadata": {
        "id": "Y9q1TnwqpRZI",
        "colab_type": "text"
      },
      "source": [
        "# Numbers"
      ]
    },
    {
      "cell_type": "code",
      "metadata": {
        "id": "qnc0CrSlnlBP",
        "colab_type": "code",
        "outputId": "ee4377c7-9905-44f9-8bfa-033e9dfe754d",
        "colab": {
          "base_uri": "https://localhost:8080/",
          "height": 34
        }
      },
      "source": [
        "pi = 3.14159\n",
        "print(pi)"
      ],
      "execution_count": 0,
      "outputs": [
        {
          "output_type": "stream",
          "text": [
            "3.14159\n"
          ],
          "name": "stdout"
        }
      ]
    },
    {
      "cell_type": "code",
      "metadata": {
        "id": "87rQ8E3ppZ3q",
        "colab_type": "code",
        "outputId": "96e0d229-336f-4528-dc2a-1ac5e54f1cff",
        "colab": {
          "base_uri": "https://localhost:8080/",
          "height": 50
        }
      },
      "source": [
        "first_num = 6\n",
        "second_num = 2\n",
        "print(first_num + second_num)\n",
        "print(first_num ** second_num)"
      ],
      "execution_count": 0,
      "outputs": [
        {
          "output_type": "stream",
          "text": [
            "8\n",
            "36\n"
          ],
          "name": "stdout"
        }
      ]
    },
    {
      "cell_type": "code",
      "metadata": {
        "id": "h89vN30apor1",
        "colab_type": "code",
        "outputId": "c420fe74-6c73-43a2-f4d4-c16696cc00b7",
        "colab": {
          "base_uri": "https://localhost:8080/",
          "height": 195
        }
      },
      "source": [
        "days_in_feb = 28\n",
        "print(days_in_feb + ' days in feb')\n",
        "# Python gets confused on diffrent data type operations and throws error."
      ],
      "execution_count": 0,
      "outputs": [
        {
          "output_type": "error",
          "ename": "TypeError",
          "evalue": "ignored",
          "traceback": [
            "\u001b[0;31m---------------------------------------------------------------------------\u001b[0m",
            "\u001b[0;31mTypeError\u001b[0m                                 Traceback (most recent call last)",
            "\u001b[0;32m<ipython-input-45-7a3e2eb830db>\u001b[0m in \u001b[0;36m<module>\u001b[0;34m()\u001b[0m\n\u001b[1;32m      1\u001b[0m \u001b[0mdays_in_feb\u001b[0m \u001b[0;34m=\u001b[0m \u001b[0;36m28\u001b[0m\u001b[0;34m\u001b[0m\u001b[0;34m\u001b[0m\u001b[0m\n\u001b[0;32m----> 2\u001b[0;31m \u001b[0mprint\u001b[0m\u001b[0;34m(\u001b[0m\u001b[0mdays_in_feb\u001b[0m \u001b[0;34m+\u001b[0m \u001b[0;34m' days in feb'\u001b[0m\u001b[0;34m)\u001b[0m\u001b[0;34m\u001b[0m\u001b[0;34m\u001b[0m\u001b[0m\n\u001b[0m\u001b[1;32m      3\u001b[0m \u001b[0;31m# Python gets confused on diffrent data type operations and throws error.\u001b[0m\u001b[0;34m\u001b[0m\u001b[0;34m\u001b[0m\u001b[0;34m\u001b[0m\u001b[0m\n",
            "\u001b[0;31mTypeError\u001b[0m: unsupported operand type(s) for +: 'int' and 'str'"
          ]
        }
      ]
    },
    {
      "cell_type": "code",
      "metadata": {
        "id": "UTUGwG4WqHV5",
        "colab_type": "code",
        "outputId": "c41efbad-3c77-45ed-ee3d-0805404ef98b",
        "colab": {
          "base_uri": "https://localhost:8080/",
          "height": 34
        }
      },
      "source": [
        "days_in_feb = 28\n",
        "print(str(days_in_feb) + ' days in feb')\n",
        "# typecast"
      ],
      "execution_count": 0,
      "outputs": [
        {
          "output_type": "stream",
          "text": [
            "28 days in feb\n"
          ],
          "name": "stdout"
        }
      ]
    },
    {
      "cell_type": "code",
      "metadata": {
        "id": "Zokr1EowqbQX",
        "colab_type": "code",
        "outputId": "487770b3-2531-4e08-dcb1-f1507153aadb",
        "colab": {
          "base_uri": "https://localhost:8080/",
          "height": 67
        }
      },
      "source": [
        "first_num = \"6\"\n",
        "second_num = \"2\"\n",
        "print(first_num + second_num)\n",
        "print(int(first_num) + int(second_num))\n",
        "print(float(first_num) + float(second_num))"
      ],
      "execution_count": 0,
      "outputs": [
        {
          "output_type": "stream",
          "text": [
            "62\n",
            "8\n",
            "8.0\n"
          ],
          "name": "stdout"
        }
      ]
    },
    {
      "cell_type": "code",
      "metadata": {
        "id": "gaSGm4Srqndu",
        "colab_type": "code",
        "outputId": "839a4fcf-84d4-456c-9445-0822eddafaf4",
        "colab": {
          "base_uri": "https://localhost:8080/",
          "height": 101
        }
      },
      "source": [
        "# input function assigns variable with string\n",
        "first_num = input(\"Enter first number\")\n",
        "second_num = input(\"Enter second number\")\n",
        "print(first_num + second_num)\n",
        "print(int(first_num) + int(second_num))\n",
        "print(float(first_num) + float(second_num))"
      ],
      "execution_count": 0,
      "outputs": [
        {
          "output_type": "stream",
          "text": [
            "Enter first number12\n",
            "Enter second number34\n",
            "1234\n",
            "46\n",
            "46.0\n"
          ],
          "name": "stdout"
        }
      ]
    },
    {
      "cell_type": "markdown",
      "metadata": {
        "id": "sccVAzxutl3n",
        "colab_type": "text"
      },
      "source": [
        "# Date and Time"
      ]
    },
    {
      "cell_type": "code",
      "metadata": {
        "id": "PxlJ5PTFtnhw",
        "colab_type": "code",
        "outputId": "270d04ed-e6a5-49c9-979b-1684d736f7c3",
        "colab": {
          "base_uri": "https://localhost:8080/",
          "height": 34
        }
      },
      "source": [
        "from datetime import datetime\n",
        "current_date = datetime.now()\n",
        "print(\"Today is : \" + str(current_date))"
      ],
      "execution_count": 0,
      "outputs": [
        {
          "output_type": "stream",
          "text": [
            "Today is : 2020-02-15 07:20:17.493599\n"
          ],
          "name": "stdout"
        }
      ]
    },
    {
      "cell_type": "code",
      "metadata": {
        "id": "SKMO4Ln9uDIO",
        "colab_type": "code",
        "outputId": "b00785b2-b35f-448c-b488-ed2eaf10622e",
        "colab": {
          "base_uri": "https://localhost:8080/",
          "height": 50
        }
      },
      "source": [
        "from datetime import datetime, timedelta\n",
        "today = datetime.now()\n",
        "print(\"Today is : \" + str(today))\n",
        "\n",
        "one_day = timedelta(days = 1)\n",
        "yesterday = today - one_day\n",
        "print(\"Yesterday was : \" + str(yesterday))"
      ],
      "execution_count": 0,
      "outputs": [
        {
          "output_type": "stream",
          "text": [
            "Today is : 2020-02-15 07:24:15.375062\n",
            "Yesterday was : 2020-02-14 07:24:15.375062\n"
          ],
          "name": "stdout"
        }
      ]
    },
    {
      "cell_type": "code",
      "metadata": {
        "id": "kDzGjeq7uc1D",
        "colab_type": "code",
        "outputId": "c44092be-ef47-456e-c07d-6d6c02218c34",
        "colab": {
          "base_uri": "https://localhost:8080/",
          "height": 118
        }
      },
      "source": [
        "from datetime import datetime\n",
        "current_date = datetime.now()\n",
        "\n",
        "print(\"Day :\" + str(current_date.day))\n",
        "print(\"Month :\" + str(current_date.month))\n",
        "print(\"Year :\" + str(current_date.year))\n",
        "print(\"Hour : \" + str(current_date.hour))\n",
        "print(\"Minute : \" + str(current_date.minute))\n",
        "print(\"Second : \" + str(current_date.second))"
      ],
      "execution_count": 0,
      "outputs": [
        {
          "output_type": "stream",
          "text": [
            "Day :15\n",
            "Month :2\n",
            "Year :2020\n",
            "Hour : 7\n",
            "Minute : 36\n",
            "Second : 37\n"
          ],
          "name": "stdout"
        }
      ]
    },
    {
      "cell_type": "code",
      "metadata": {
        "id": "Ws7LFKMcva-n",
        "colab_type": "code",
        "outputId": "c725bfbc-8d9d-4666-b3a6-41371bcbb583",
        "colab": {
          "base_uri": "https://localhost:8080/",
          "height": 50
        }
      },
      "source": [
        "from datetime import datetime\n",
        "birthday = input(\"When is your birthday (dd/mm/yyyy)\")\n",
        "\n",
        "birthday_date = datetime.strptime(birthday, \"%d/%m/%Y\")\n",
        "print(\"Birthday :\" + str(birthday_date))"
      ],
      "execution_count": 0,
      "outputs": [
        {
          "output_type": "stream",
          "text": [
            "When is your birthday (dd/mm/yyyy)15/12/1989\n",
            "Birthday :1989-12-15 00:00:00\n"
          ],
          "name": "stdout"
        }
      ]
    },
    {
      "cell_type": "code",
      "metadata": {
        "id": "XWxh8u1nwQFY",
        "colab_type": "code",
        "outputId": "541e4645-5c9e-4145-b219-d1100237b71c",
        "colab": {
          "base_uri": "https://localhost:8080/",
          "height": 67
        }
      },
      "source": [
        "from datetime import datetime\n",
        "birthday = input(\"When is your birthday (dd/mm/yyyy)\")\n",
        "\n",
        "birthday_date = datetime.strptime(birthday, \"%d/%m/%Y\")\n",
        "print(\"Birthday :\" + str(birthday_date))\n",
        "\n",
        "one_day = timedelta(days = 1)\n",
        "yesterday = birthday_date - one_day\n",
        "print(\"Day before birthday was : \" + str(yesterday))"
      ],
      "execution_count": 0,
      "outputs": [
        {
          "output_type": "stream",
          "text": [
            "When is your birthday (dd/mm/yyyy)15/12/1989\n",
            "Birthday :1989-12-15 00:00:00\n",
            "Day before birthday was : 1989-12-14 00:00:00\n"
          ],
          "name": "stdout"
        }
      ]
    },
    {
      "cell_type": "code",
      "metadata": {
        "id": "F2KXjsSowvlR",
        "colab_type": "code",
        "outputId": "7a52bf95-389a-422c-ec89-d1edd7958aab",
        "colab": {
          "base_uri": "https://localhost:8080/",
          "height": 370
        }
      },
      "source": [
        "# When date passed is of wrong format\n",
        "from datetime import datetime\n",
        "birthday = input(\"When is your birthday (dd/mm/yyyy)\")\n",
        "\n",
        "birthday_date = datetime.strptime(birthday, \"%d/%m/%Y\")\n",
        "print(\"Birthday :\" + str(birthday_date))"
      ],
      "execution_count": 0,
      "outputs": [
        {
          "output_type": "stream",
          "text": [
            "When is your birthday (dd/mm/yyyy)12/31/1989\n"
          ],
          "name": "stdout"
        },
        {
          "output_type": "error",
          "ename": "ValueError",
          "evalue": "ignored",
          "traceback": [
            "\u001b[0;31m---------------------------------------------------------------------------\u001b[0m",
            "\u001b[0;31mValueError\u001b[0m                                Traceback (most recent call last)",
            "\u001b[0;32m<ipython-input-66-bb750a0e1097>\u001b[0m in \u001b[0;36m<module>\u001b[0;34m()\u001b[0m\n\u001b[1;32m      2\u001b[0m \u001b[0mbirthday\u001b[0m \u001b[0;34m=\u001b[0m \u001b[0minput\u001b[0m\u001b[0;34m(\u001b[0m\u001b[0;34m\"When is your birthday (dd/mm/yyyy)\"\u001b[0m\u001b[0;34m)\u001b[0m\u001b[0;34m\u001b[0m\u001b[0;34m\u001b[0m\u001b[0m\n\u001b[1;32m      3\u001b[0m \u001b[0;34m\u001b[0m\u001b[0m\n\u001b[0;32m----> 4\u001b[0;31m \u001b[0mbirthday_date\u001b[0m \u001b[0;34m=\u001b[0m \u001b[0mdatetime\u001b[0m\u001b[0;34m.\u001b[0m\u001b[0mstrptime\u001b[0m\u001b[0;34m(\u001b[0m\u001b[0mbirthday\u001b[0m\u001b[0;34m,\u001b[0m \u001b[0;34m\"%d/%m/%Y\"\u001b[0m\u001b[0;34m)\u001b[0m\u001b[0;34m\u001b[0m\u001b[0;34m\u001b[0m\u001b[0m\n\u001b[0m\u001b[1;32m      5\u001b[0m \u001b[0mprint\u001b[0m\u001b[0;34m(\u001b[0m\u001b[0;34m\"Birthday :\"\u001b[0m \u001b[0;34m+\u001b[0m \u001b[0mstr\u001b[0m\u001b[0;34m(\u001b[0m\u001b[0mbirthday_date\u001b[0m\u001b[0;34m)\u001b[0m\u001b[0;34m)\u001b[0m\u001b[0;34m\u001b[0m\u001b[0;34m\u001b[0m\u001b[0m\n",
            "\u001b[0;32m/usr/lib/python3.6/_strptime.py\u001b[0m in \u001b[0;36m_strptime_datetime\u001b[0;34m(cls, data_string, format)\u001b[0m\n\u001b[1;32m    563\u001b[0m     \"\"\"Return a class cls instance based on the input string and the\n\u001b[1;32m    564\u001b[0m     format string.\"\"\"\n\u001b[0;32m--> 565\u001b[0;31m     \u001b[0mtt\u001b[0m\u001b[0;34m,\u001b[0m \u001b[0mfraction\u001b[0m \u001b[0;34m=\u001b[0m \u001b[0m_strptime\u001b[0m\u001b[0;34m(\u001b[0m\u001b[0mdata_string\u001b[0m\u001b[0;34m,\u001b[0m \u001b[0mformat\u001b[0m\u001b[0;34m)\u001b[0m\u001b[0;34m\u001b[0m\u001b[0;34m\u001b[0m\u001b[0m\n\u001b[0m\u001b[1;32m    566\u001b[0m     \u001b[0mtzname\u001b[0m\u001b[0;34m,\u001b[0m \u001b[0mgmtoff\u001b[0m \u001b[0;34m=\u001b[0m \u001b[0mtt\u001b[0m\u001b[0;34m[\u001b[0m\u001b[0;34m-\u001b[0m\u001b[0;36m2\u001b[0m\u001b[0;34m:\u001b[0m\u001b[0;34m]\u001b[0m\u001b[0;34m\u001b[0m\u001b[0;34m\u001b[0m\u001b[0m\n\u001b[1;32m    567\u001b[0m     \u001b[0margs\u001b[0m \u001b[0;34m=\u001b[0m \u001b[0mtt\u001b[0m\u001b[0;34m[\u001b[0m\u001b[0;34m:\u001b[0m\u001b[0;36m6\u001b[0m\u001b[0;34m]\u001b[0m \u001b[0;34m+\u001b[0m \u001b[0;34m(\u001b[0m\u001b[0mfraction\u001b[0m\u001b[0;34m,\u001b[0m\u001b[0;34m)\u001b[0m\u001b[0;34m\u001b[0m\u001b[0;34m\u001b[0m\u001b[0m\n",
            "\u001b[0;32m/usr/lib/python3.6/_strptime.py\u001b[0m in \u001b[0;36m_strptime\u001b[0;34m(data_string, format)\u001b[0m\n\u001b[1;32m    360\u001b[0m     \u001b[0;32mif\u001b[0m \u001b[0;32mnot\u001b[0m \u001b[0mfound\u001b[0m\u001b[0;34m:\u001b[0m\u001b[0;34m\u001b[0m\u001b[0;34m\u001b[0m\u001b[0m\n\u001b[1;32m    361\u001b[0m         raise ValueError(\"time data %r does not match format %r\" %\n\u001b[0;32m--> 362\u001b[0;31m                          (data_string, format))\n\u001b[0m\u001b[1;32m    363\u001b[0m     \u001b[0;32mif\u001b[0m \u001b[0mlen\u001b[0m\u001b[0;34m(\u001b[0m\u001b[0mdata_string\u001b[0m\u001b[0;34m)\u001b[0m \u001b[0;34m!=\u001b[0m \u001b[0mfound\u001b[0m\u001b[0;34m.\u001b[0m\u001b[0mend\u001b[0m\u001b[0;34m(\u001b[0m\u001b[0;34m)\u001b[0m\u001b[0;34m:\u001b[0m\u001b[0;34m\u001b[0m\u001b[0;34m\u001b[0m\u001b[0m\n\u001b[1;32m    364\u001b[0m         raise ValueError(\"unconverted data remains: %s\" %\n",
            "\u001b[0;31mValueError\u001b[0m: time data '12/31/1989' does not match format '%d/%m/%Y'"
          ]
        }
      ]
    },
    {
      "cell_type": "markdown",
      "metadata": {
        "id": "MPttPRtOzLxR",
        "colab_type": "text"
      },
      "source": [
        "# Error Handling"
      ]
    },
    {
      "cell_type": "markdown",
      "metadata": {
        "id": "_WRM5522zsVs",
        "colab_type": "text"
      },
      "source": [
        "## Syntax Error"
      ]
    },
    {
      "cell_type": "code",
      "metadata": {
        "id": "0Whn7E6EzxZY",
        "colab_type": "code",
        "outputId": "a27049b7-5af8-41bf-970a-880ceca1874a",
        "colab": {
          "base_uri": "https://localhost:8080/",
          "height": 128
        }
      },
      "source": [
        "x = 1\n",
        "y = 1\n",
        "if x==y # missing :\n",
        "  print(\"Success\")"
      ],
      "execution_count": 0,
      "outputs": [
        {
          "output_type": "error",
          "ename": "SyntaxError",
          "evalue": "ignored",
          "traceback": [
            "\u001b[0;36m  File \u001b[0;32m\"<ipython-input-71-c48fc7184aa8>\"\u001b[0;36m, line \u001b[0;32m3\u001b[0m\n\u001b[0;31m    if x==y # missing :\u001b[0m\n\u001b[0m                       ^\u001b[0m\n\u001b[0;31mSyntaxError\u001b[0m\u001b[0;31m:\u001b[0m invalid syntax\n"
          ]
        }
      ]
    },
    {
      "cell_type": "code",
      "metadata": {
        "id": "50bsR5tuz5z1",
        "colab_type": "code",
        "outputId": "06fd8b52-332e-4fe6-8736-8faeadac7651",
        "colab": {
          "base_uri": "https://localhost:8080/",
          "height": 34
        }
      },
      "source": [
        "x = 1\n",
        "y = 1\n",
        "if x==y: # missing :\n",
        "  print(\"Success\")"
      ],
      "execution_count": 0,
      "outputs": [
        {
          "output_type": "stream",
          "text": [
            "Success\n"
          ],
          "name": "stdout"
        }
      ]
    },
    {
      "cell_type": "markdown",
      "metadata": {
        "id": "WB5ZXyrV0DfM",
        "colab_type": "text"
      },
      "source": [
        "## Runtime Error"
      ]
    },
    {
      "cell_type": "code",
      "metadata": {
        "id": "NSglsymIz-Yf",
        "colab_type": "code",
        "outputId": "6a67b41f-94ce-4d30-d71d-ac7919e9823f",
        "colab": {
          "base_uri": "https://localhost:8080/",
          "height": 195
        }
      },
      "source": [
        "x= 1\n",
        "y= 0\n",
        "print(x/y)"
      ],
      "execution_count": 0,
      "outputs": [
        {
          "output_type": "error",
          "ename": "ZeroDivisionError",
          "evalue": "ignored",
          "traceback": [
            "\u001b[0;31m---------------------------------------------------------------------------\u001b[0m",
            "\u001b[0;31mZeroDivisionError\u001b[0m                         Traceback (most recent call last)",
            "\u001b[0;32m<ipython-input-73-81d073d41112>\u001b[0m in \u001b[0;36m<module>\u001b[0;34m()\u001b[0m\n\u001b[1;32m      1\u001b[0m \u001b[0mx\u001b[0m\u001b[0;34m=\u001b[0m \u001b[0;36m1\u001b[0m\u001b[0;34m\u001b[0m\u001b[0;34m\u001b[0m\u001b[0m\n\u001b[1;32m      2\u001b[0m \u001b[0my\u001b[0m\u001b[0;34m=\u001b[0m \u001b[0;36m0\u001b[0m\u001b[0;34m\u001b[0m\u001b[0;34m\u001b[0m\u001b[0m\n\u001b[0;32m----> 3\u001b[0;31m \u001b[0mprint\u001b[0m\u001b[0;34m(\u001b[0m\u001b[0mx\u001b[0m\u001b[0;34m/\u001b[0m\u001b[0my\u001b[0m\u001b[0;34m)\u001b[0m\u001b[0;34m\u001b[0m\u001b[0;34m\u001b[0m\u001b[0m\n\u001b[0m",
            "\u001b[0;31mZeroDivisionError\u001b[0m: division by zero"
          ]
        }
      ]
    },
    {
      "cell_type": "markdown",
      "metadata": {
        "id": "Yxq8f6WA0qsl",
        "colab_type": "text"
      },
      "source": [
        "## Logic Error"
      ]
    },
    {
      "cell_type": "code",
      "metadata": {
        "id": "NJ5tFT7N0Jco",
        "colab_type": "code",
        "outputId": "e6626458-4965-4855-8447-8596e9d2ad8e",
        "colab": {
          "base_uri": "https://localhost:8080/",
          "height": 34
        }
      },
      "source": [
        "x = 100\n",
        "y = 200\n",
        "if x<y:\n",
        "  print(str(x) + \" is greater than \" + str(y))"
      ],
      "execution_count": 0,
      "outputs": [
        {
          "output_type": "stream",
          "text": [
            "100 is greater than 200\n"
          ],
          "name": "stdout"
        }
      ]
    },
    {
      "cell_type": "markdown",
      "metadata": {
        "id": "4mevCMAC1pNR",
        "colab_type": "text"
      },
      "source": [
        "## Handling Error"
      ]
    },
    {
      "cell_type": "code",
      "metadata": {
        "id": "alywZAhh07Zf",
        "colab_type": "code",
        "outputId": "402f3a03-1716-451d-8e3c-c95df1bbe320",
        "colab": {
          "base_uri": "https://localhost:8080/",
          "height": 84
        }
      },
      "source": [
        "x =20\n",
        "y = 0\n",
        "\n",
        "print()\n",
        "try:\n",
        "  print(x/y)\n",
        "except ZeroDivisionError as e:\n",
        "  print(\"Divide by zero not allowed.\")\n",
        "else: \n",
        "  print(\"Something else went wrong.\")\n",
        "finally:\n",
        "  print(\"This is our cleanup code.\")\n",
        "print()"
      ],
      "execution_count": 0,
      "outputs": [
        {
          "output_type": "stream",
          "text": [
            "\n",
            "Divide by zero not allowed.\n",
            "This is our cleanup code.\n",
            "\n"
          ],
          "name": "stdout"
        }
      ]
    },
    {
      "cell_type": "markdown",
      "metadata": {
        "id": "auIJ4znb3uAH",
        "colab_type": "text"
      },
      "source": [
        "# Conditional Logic"
      ]
    },
    {
      "cell_type": "code",
      "metadata": {
        "id": "0HvbLhfd2tat",
        "colab_type": "code",
        "outputId": "e588792f-e0d7-4136-d046-503a1a6fa6bc",
        "colab": {
          "base_uri": "https://localhost:8080/",
          "height": 50
        }
      },
      "source": [
        "price = float(input(\"Enter price : \"))\n",
        "if price >= 10.00:\n",
        "  tax = 0.07\n",
        "  print(tax)\n",
        "else:\n",
        "  tax = 0\n",
        "  print(tax)"
      ],
      "execution_count": 0,
      "outputs": [
        {
          "output_type": "stream",
          "text": [
            "Enter price : 12\n",
            "0.07\n"
          ],
          "name": "stdout"
        }
      ]
    },
    {
      "cell_type": "code",
      "metadata": {
        "id": "c_x0vQlt4SSS",
        "colab_type": "code",
        "outputId": "4a112c71-186f-4743-f95b-cbec6d5da8fe",
        "colab": {
          "base_uri": "https://localhost:8080/",
          "height": 50
        }
      },
      "source": [
        "price = float(input(\"Enter price : \"))\n",
        "if price >= 10.00:\n",
        "  tax = 0.07\n",
        "else:\n",
        "  tax = 0\n",
        "print(tax)"
      ],
      "execution_count": 0,
      "outputs": [
        {
          "output_type": "stream",
          "text": [
            "Enter price : 6\n",
            "0\n"
          ],
          "name": "stdout"
        }
      ]
    },
    {
      "cell_type": "code",
      "metadata": {
        "id": "FNfCZX1R4b6j",
        "colab_type": "code",
        "outputId": "b46a13bd-4fcb-4e27-f5e0-b636a8352802",
        "colab": {
          "base_uri": "https://localhost:8080/",
          "height": 34
        }
      },
      "source": [
        "# String comparisons are case sensitive\n",
        "country = \"INDIA\"\n",
        "if country.lower() == \"india\":\n",
        "  print(\"You are from India.\")\n",
        "else:\n",
        " print(\"You are not from India.\")"
      ],
      "execution_count": 0,
      "outputs": [
        {
          "output_type": "stream",
          "text": [
            "You are from India.\n"
          ],
          "name": "stdout"
        }
      ]
    },
    {
      "cell_type": "code",
      "metadata": {
        "id": "zMbBMuSi5AF9",
        "colab_type": "code",
        "outputId": "45c5ca22-b481-47af-ebc6-4711edd8ecf0",
        "colab": {
          "base_uri": "https://localhost:8080/",
          "height": 34
        }
      },
      "source": [
        "country = \"US\"\n",
        "if country.lower() == \"india\":\n",
        "  print(\"You are from India.\")\n",
        "else:\n",
        " print(\"You are not from India.\")"
      ],
      "execution_count": 0,
      "outputs": [
        {
          "output_type": "stream",
          "text": [
            "You are not from India.\n"
          ],
          "name": "stdout"
        }
      ]
    },
    {
      "cell_type": "code",
      "metadata": {
        "id": "sTxjjR8_5EvP",
        "colab_type": "code",
        "colab": {
          "base_uri": "https://localhost:8080/",
          "height": 52
        },
        "outputId": "13af996e-725b-4517-f30f-453481733f7f"
      },
      "source": [
        "# More if else conditions\n",
        "state = input(\"Which state do you live in?\")\n",
        "tax = 0\n",
        "\n",
        "if state == \"MH\":\n",
        "  tax = 0.05\n",
        "if state == \"TN\":\n",
        "  tax = 0.05\n",
        "if state == \"GJ\":\n",
        "  tax = 0.03\n",
        "print(tax)"
      ],
      "execution_count": 100,
      "outputs": [
        {
          "output_type": "stream",
          "text": [
            "Which state do you live in?MH\n",
            "0.05\n"
          ],
          "name": "stdout"
        }
      ]
    },
    {
      "cell_type": "code",
      "metadata": {
        "id": "TUrvhj3DLrMj",
        "colab_type": "code",
        "colab": {
          "base_uri": "https://localhost:8080/",
          "height": 52
        },
        "outputId": "1ad3ee71-6885-4873-d3af-68afda72be4f"
      },
      "source": [
        "# Multiple if conditions\n",
        "state = input(\"Which state do you live in?\")\n",
        "tax = 0\n",
        "\n",
        "if state == \"MH\":\n",
        "  tax = 0.05\n",
        "if state == \"TN\":\n",
        "  tax = 0.05\n",
        "if state == \"GJ\":\n",
        "  tax = 0.03\n",
        "else:\n",
        "  tax = 0.00\n",
        "print(tax)"
      ],
      "execution_count": 101,
      "outputs": [
        {
          "output_type": "stream",
          "text": [
            "Which state do you live in?AS\n",
            "0.0\n"
          ],
          "name": "stdout"
        }
      ]
    },
    {
      "cell_type": "code",
      "metadata": {
        "id": "LAmJDgPZMKPF",
        "colab_type": "code",
        "colab": {
          "base_uri": "https://localhost:8080/",
          "height": 52
        },
        "outputId": "5439f79c-8849-4f79-b03f-56da9f241eaf"
      },
      "source": [
        "# Use of elif\n",
        "state = input(\"Which state do you live in?\")\n",
        "tax = 0\n",
        "\n",
        "if state == \"MH\":\n",
        "  tax = 0.05\n",
        "elif state == \"TN\":\n",
        "  tax = 0.05\n",
        "elif state == \"GJ\":\n",
        "  tax = 0.03\n",
        "else:\n",
        "  tax = 0.00\n",
        "print(tax)"
      ],
      "execution_count": 102,
      "outputs": [
        {
          "output_type": "stream",
          "text": [
            "Which state do you live in?GJ\n",
            "0.03\n"
          ],
          "name": "stdout"
        }
      ]
    },
    {
      "cell_type": "code",
      "metadata": {
        "id": "WUWEoB4BL2K3",
        "colab_type": "code",
        "colab": {
          "base_uri": "https://localhost:8080/",
          "height": 52
        },
        "outputId": "464f8312-76d7-433d-a65c-1b10e63c7884"
      },
      "source": [
        "# if else conditions with combined conditions\n",
        "state = input(\"Which state do you live in?\")\n",
        "tax = 0\n",
        "\n",
        "if state == \"MH\" or state == \"TN\":\n",
        "  tax = 0.05\n",
        "elif state == \"GJ\":\n",
        "  tax = 0.03\n",
        "else:\n",
        "  tax = 0.00\n",
        "print(tax)"
      ],
      "execution_count": 103,
      "outputs": [
        {
          "output_type": "stream",
          "text": [
            "Which state do you live in?TN\n",
            "0.05\n"
          ],
          "name": "stdout"
        }
      ]
    },
    {
      "cell_type": "code",
      "metadata": {
        "id": "m2_ZU14RMCYN",
        "colab_type": "code",
        "colab": {
          "base_uri": "https://localhost:8080/",
          "height": 52
        },
        "outputId": "9393d1e5-ac8c-412c-e25f-7770ba56fe14"
      },
      "source": [
        "# if else conditions with in \n",
        "state = input(\"Which state do you live in?\")\n",
        "tax = 0\n",
        "\n",
        "if state in (\"MH\", \"TN\", \"AP\"):\n",
        "  tax = 0.05\n",
        "elif state == \"GJ\":\n",
        "  tax = 0.03\n",
        "else:\n",
        "  tax = 0.00\n",
        "print(tax)"
      ],
      "execution_count": 104,
      "outputs": [
        {
          "output_type": "stream",
          "text": [
            "Which state do you live in?AP\n",
            "0.05\n"
          ],
          "name": "stdout"
        }
      ]
    },
    {
      "cell_type": "code",
      "metadata": {
        "id": "iH-9uO1SN3DJ",
        "colab_type": "code",
        "colab": {
          "base_uri": "https://localhost:8080/",
          "height": 70
        },
        "outputId": "88d359b1-ded7-4789-f773-aea595a31d7c"
      },
      "source": [
        "# Nested if else\n",
        "country = input(\"Which Country do you live in?\")\n",
        "tax = 0\n",
        "if country == \"IN\":\n",
        "  state = input(\"Which state do you live in?\")\n",
        "  if state in (\"MH\", \"TN\", \"AP\"):\n",
        "    tax = 0.05\n",
        "  elif state == \"GJ\":\n",
        "    tax = 0.03\n",
        "  else:\n",
        "    tax = 0.00\n",
        "else:\n",
        "  tax = 0.00\n",
        "print(tax)"
      ],
      "execution_count": 106,
      "outputs": [
        {
          "output_type": "stream",
          "text": [
            "Which Country do you live in?IN\n",
            "Which state do you live in?MH\n",
            "0.05\n"
          ],
          "name": "stdout"
        }
      ]
    },
    {
      "cell_type": "code",
      "metadata": {
        "id": "tpxfqVaVOa8A",
        "colab_type": "code",
        "colab": {
          "base_uri": "https://localhost:8080/",
          "height": 52
        },
        "outputId": "6af37aaa-3844-45ea-f7df-52c495133328"
      },
      "source": [
        "# Nested if else\n",
        "country = input(\"Which Country do you live in?\")\n",
        "tax = 0\n",
        "if country == \"IN\":\n",
        "  state = input(\"Which state do you live in?\")\n",
        "  if state in (\"MH\", \"TN\", \"AP\"):\n",
        "    tax = 0.05\n",
        "  elif state == \"GJ\":\n",
        "    tax = 0.03\n",
        "  else:\n",
        "    tax = 0.00\n",
        "else:\n",
        "  tax = 0.00\n",
        "print(tax)"
      ],
      "execution_count": 107,
      "outputs": [
        {
          "output_type": "stream",
          "text": [
            "Which Country do you live in?UK\n",
            "0.0\n"
          ],
          "name": "stdout"
        }
      ]
    },
    {
      "cell_type": "markdown",
      "metadata": {
        "id": "pudXWSqdQOAs",
        "colab_type": "text"
      },
      "source": [
        "# Collections"
      ]
    },
    {
      "cell_type": "markdown",
      "metadata": {
        "id": "ZwXtaEevQTq5",
        "colab_type": "text"
      },
      "source": [
        "## List - Collection of items"
      ]
    },
    {
      "cell_type": "code",
      "metadata": {
        "id": "fMkU6f9-OhMd",
        "colab_type": "code",
        "colab": {
          "base_uri": "https://localhost:8080/",
          "height": 35
        },
        "outputId": "53285dad-76aa-426a-fde1-8355d5a36ffc"
      },
      "source": [
        "names = [\"ABC\", \"DEF\"]\n",
        "print(names)"
      ],
      "execution_count": 108,
      "outputs": [
        {
          "output_type": "stream",
          "text": [
            "['ABC', 'DEF']\n"
          ],
          "name": "stdout"
        }
      ]
    },
    {
      "cell_type": "code",
      "metadata": {
        "id": "LMn6Vk5pQhcf",
        "colab_type": "code",
        "colab": {
          "base_uri": "https://localhost:8080/",
          "height": 35
        },
        "outputId": "64af4a4f-3817-4340-9c63-2194c09228b1"
      },
      "source": [
        "data = [\"ABC\", \"DEF\", 123]\n",
        "print(data)"
      ],
      "execution_count": 109,
      "outputs": [
        {
          "output_type": "stream",
          "text": [
            "['ABC', 'DEF', 123]\n"
          ],
          "name": "stdout"
        }
      ]
    },
    {
      "cell_type": "code",
      "metadata": {
        "id": "_HmVPItAQn3J",
        "colab_type": "code",
        "colab": {
          "base_uri": "https://localhost:8080/",
          "height": 52
        },
        "outputId": "9fea54ea-9d60-4f62-b169-ccd01df20e6f"
      },
      "source": [
        "scores = [] # Empty list\n",
        "scores.append(98)\n",
        "scores.append(99)\n",
        "print(scores)\n",
        "print(scores[1])"
      ],
      "execution_count": 110,
      "outputs": [
        {
          "output_type": "stream",
          "text": [
            "[98, 99]\n",
            "99\n"
          ],
          "name": "stdout"
        }
      ]
    },
    {
      "cell_type": "markdown",
      "metadata": {
        "id": "VZPUNPucRDvj",
        "colab_type": "text"
      },
      "source": [
        "## Array - from array import array"
      ]
    },
    {
      "cell_type": "code",
      "metadata": {
        "id": "aJNV05BPQ9I1",
        "colab_type": "code",
        "colab": {
          "base_uri": "https://localhost:8080/",
          "height": 52
        },
        "outputId": "45e603c1-fbb2-4e79-9e7d-63a8996219e2"
      },
      "source": [
        "from array import array\n",
        "scores = array('d')\n",
        "scores.append(97)\n",
        "scores.append(98)\n",
        "print(scores)\n",
        "print(scores[1])"
      ],
      "execution_count": 111,
      "outputs": [
        {
          "output_type": "stream",
          "text": [
            "array('d', [97.0, 98.0])\n",
            "98.0\n"
          ],
          "name": "stdout"
        }
      ]
    },
    {
      "cell_type": "code",
      "metadata": {
        "id": "RCkXPgqiRcSb",
        "colab_type": "code",
        "colab": {
          "base_uri": "https://localhost:8080/",
          "height": 88
        },
        "outputId": "8be0d884-8e5d-4ac7-e306-e2a4402336aa"
      },
      "source": [
        "# Common Operations\n",
        "names = [\"ABC\", \"PQR\"]\n",
        "print(names)\n",
        "print(len(names))\n",
        "names.insert(0, \"BBB\")\n",
        "print(names)\n",
        "names.sort()\n",
        "print(names)"
      ],
      "execution_count": 113,
      "outputs": [
        {
          "output_type": "stream",
          "text": [
            "['ABC', 'PQR']\n",
            "2\n",
            "['BBB', 'ABC', 'PQR']\n",
            "['ABC', 'BBB', 'PQR']\n"
          ],
          "name": "stdout"
        }
      ]
    },
    {
      "cell_type": "code",
      "metadata": {
        "id": "XvD4eCBySXSG",
        "colab_type": "code",
        "colab": {
          "base_uri": "https://localhost:8080/",
          "height": 52
        },
        "outputId": "86b2b4d3-f595-42c8-dbc3-075a3269bf81"
      },
      "source": [
        "names = [\"ASD\", \"ZXC\", \"QWE\", \"PLM\", \"SDF\"]\n",
        "vip = names[0:2]\n",
        "guest = names[2:3]\n",
        "print(vip)\n",
        "print(guest)"
      ],
      "execution_count": 117,
      "outputs": [
        {
          "output_type": "stream",
          "text": [
            "['ASD', 'ZXC']\n",
            "['QWE']\n"
          ],
          "name": "stdout"
        }
      ]
    },
    {
      "cell_type": "markdown",
      "metadata": {
        "id": "aIZX7K5KT6sj",
        "colab_type": "text"
      },
      "source": [
        "## Dictionary"
      ]
    },
    {
      "cell_type": "code",
      "metadata": {
        "id": "8ba_1hxbTWjp",
        "colab_type": "code",
        "colab": {
          "base_uri": "https://localhost:8080/",
          "height": 52
        },
        "outputId": "0fe9518a-e747-411d-b03b-117a133313dd"
      },
      "source": [
        "person = {\"first\" : \"ABC\"}\n",
        "person[\"last\"] = \"ZXC\"\n",
        "print(person)\n",
        "print(person[\"first\"])"
      ],
      "execution_count": 118,
      "outputs": [
        {
          "output_type": "stream",
          "text": [
            "{'first': 'ABC', 'last': 'ZXC'}\n",
            "ABC\n"
          ],
          "name": "stdout"
        }
      ]
    },
    {
      "cell_type": "code",
      "metadata": {
        "id": "3rEgXDr3UQY_",
        "colab_type": "code",
        "colab": {
          "base_uri": "https://localhost:8080/",
          "height": 124
        },
        "outputId": "3f0d6f00-572d-49e5-dfae-56d94a42976d"
      },
      "source": [
        "a = {}\n",
        "a[\"first\"] = \"ABC\"\n",
        "a[\"last\"] = \"CDF\"\n",
        "\n",
        "b = {\"first\" : \"BNM\", \"last\" : \"MKL\"}\n",
        "\n",
        "print(a)\n",
        "print(b)\n",
        "\n",
        "people = [a, b]\n",
        "print(people)\n",
        "\n",
        "people.append({\"first\" : \"QWE\", \"last\" : \"ERT\"})\n",
        "print(people)\n",
        "\n",
        "presenters = people[0:2]\n",
        "print(presenters)\n",
        "print(len(presenters))"
      ],
      "execution_count": 126,
      "outputs": [
        {
          "output_type": "stream",
          "text": [
            "{'first': 'ABC', 'last': 'CDF'}\n",
            "{'first': 'BNM', 'last': 'MKL'}\n",
            "[{'first': 'ABC', 'last': 'CDF'}, {'first': 'BNM', 'last': 'MKL'}]\n",
            "[{'first': 'ABC', 'last': 'CDF'}, {'first': 'BNM', 'last': 'MKL'}, {'first': 'QWE', 'last': 'ERT'}]\n",
            "[{'first': 'ABC', 'last': 'CDF'}, {'first': 'BNM', 'last': 'MKL'}]\n",
            "2\n"
          ],
          "name": "stdout"
        }
      ]
    },
    {
      "cell_type": "markdown",
      "metadata": {
        "id": "K5ra7R7WZK4V",
        "colab_type": "text"
      },
      "source": [
        "# Loops"
      ]
    },
    {
      "cell_type": "markdown",
      "metadata": {
        "id": "OXHogJgVZQ-o",
        "colab_type": "text"
      },
      "source": [
        "## for"
      ]
    },
    {
      "cell_type": "code",
      "metadata": {
        "id": "-MYB0aL0X4dD",
        "colab_type": "code",
        "colab": {
          "base_uri": "https://localhost:8080/",
          "height": 52
        },
        "outputId": "ac7b669d-3d9c-48e7-88af-f62e39cbcfd6"
      },
      "source": [
        "for names in [\"ABC\", \"DEF\"]:\n",
        "  print(names)"
      ],
      "execution_count": 127,
      "outputs": [
        {
          "output_type": "stream",
          "text": [
            "ABC\n",
            "DEF\n"
          ],
          "name": "stdout"
        }
      ]
    },
    {
      "cell_type": "code",
      "metadata": {
        "id": "edwwkiMEZgd8",
        "colab_type": "code",
        "colab": {
          "base_uri": "https://localhost:8080/",
          "height": 70
        },
        "outputId": "63b545f9-e35a-4e32-bd94-728c63078f44"
      },
      "source": [
        "for index in range(0,3):\n",
        "  print(index)"
      ],
      "execution_count": 130,
      "outputs": [
        {
          "output_type": "stream",
          "text": [
            "0\n",
            "1\n",
            "2\n"
          ],
          "name": "stdout"
        }
      ]
    },
    {
      "cell_type": "markdown",
      "metadata": {
        "id": "2eKduNHlZzef",
        "colab_type": "text"
      },
      "source": [
        "## while"
      ]
    },
    {
      "cell_type": "code",
      "metadata": {
        "id": "1VfLW8d0ZrtB",
        "colab_type": "code",
        "colab": {
          "base_uri": "https://localhost:8080/",
          "height": 88
        },
        "outputId": "e0e9c944-5650-4fc2-9043-7bbd79c9f3eb"
      },
      "source": [
        "names = [\"A\", \"B\", \"C\", \"D\"]\n",
        "index = 0\n",
        "while index < len(names):\n",
        "  print(names[index])\n",
        "  index = index +1"
      ],
      "execution_count": 1,
      "outputs": [
        {
          "output_type": "stream",
          "text": [
            "A\n",
            "B\n",
            "C\n",
            "D\n"
          ],
          "name": "stdout"
        }
      ]
    },
    {
      "cell_type": "markdown",
      "metadata": {
        "id": "su49H7tia0e3",
        "colab_type": "text"
      },
      "source": [
        "# Functions"
      ]
    },
    {
      "cell_type": "code",
      "metadata": {
        "id": "7TD53dVxaIkK",
        "colab_type": "code",
        "colab": {
          "base_uri": "https://localhost:8080/",
          "height": 212
        },
        "outputId": "dbbedc31-e9f4-4305-8e84-9624ef158dd4"
      },
      "source": [
        "# Repeated Code block\n",
        "import datetime\n",
        "\n",
        "first_name = \"ABC\"\n",
        "print(\"Task Completed\")\n",
        "print(datetime.datetime.now())\n",
        "print()\n",
        "\n",
        "for x in range(0,5):\n",
        "  print(x)\n",
        "print(\"Task Completed\")\n",
        "print(datetime.datetime.now())\n",
        "print()\n"
      ],
      "execution_count": 5,
      "outputs": [
        {
          "output_type": "stream",
          "text": [
            "Task Completed\n",
            "2020-02-15 10:38:48.953311\n",
            "\n",
            "0\n",
            "1\n",
            "2\n",
            "3\n",
            "4\n",
            "Task Completed\n",
            "2020-02-15 10:38:48.954618\n",
            "\n"
          ],
          "name": "stdout"
        }
      ]
    },
    {
      "cell_type": "code",
      "metadata": {
        "id": "1TQ3eJzHbVSW",
        "colab_type": "code",
        "colab": {
          "base_uri": "https://localhost:8080/",
          "height": 212
        },
        "outputId": "3daef39c-c88e-4906-8d09-626200c2cfe5"
      },
      "source": [
        "import datetime\n",
        "\n",
        "def print_time():\n",
        "  print(\"Task Completed\")\n",
        "  print(datetime.datetime.now())\n",
        "  print()\n",
        "\n",
        "first_name = \"ABC\"\n",
        "print_time()\n",
        "\n",
        "for i in range(0,5):\n",
        "  print(i)\n",
        "print_time()"
      ],
      "execution_count": 7,
      "outputs": [
        {
          "output_type": "stream",
          "text": [
            "Task Completed\n",
            "2020-02-15 10:40:44.952847\n",
            "\n",
            "0\n",
            "1\n",
            "2\n",
            "3\n",
            "4\n",
            "Task Completed\n",
            "2020-02-15 10:40:44.953872\n",
            "\n"
          ],
          "name": "stdout"
        }
      ]
    },
    {
      "cell_type": "code",
      "metadata": {
        "id": "ZhuGoZvTb6SJ",
        "colab_type": "code",
        "colab": {
          "base_uri": "https://localhost:8080/",
          "height": 212
        },
        "outputId": "2b6345c2-38ba-481d-e3f5-6afb5396a100"
      },
      "source": [
        "import datetime\n",
        "\n",
        "def print_time(task_name):\n",
        "  print(task_name)\n",
        "  print(datetime.datetime.now())\n",
        "  print()\n",
        "\n",
        "first_name = \"ABC\"\n",
        "print_time(\"First name assigned\")\n",
        "\n",
        "for i in range(0,5):\n",
        "  print(i)\n",
        "print_time(\"Loop Completed\")"
      ],
      "execution_count": 8,
      "outputs": [
        {
          "output_type": "stream",
          "text": [
            "First name assigned\n",
            "2020-02-15 10:44:55.427542\n",
            "\n",
            "0\n",
            "1\n",
            "2\n",
            "3\n",
            "4\n",
            "Loop Completed\n",
            "2020-02-15 10:44:55.428890\n",
            "\n"
          ],
          "name": "stdout"
        }
      ]
    },
    {
      "cell_type": "code",
      "metadata": {
        "id": "Cue-amU3c4nQ",
        "colab_type": "code",
        "colab": {
          "base_uri": "https://localhost:8080/",
          "height": 106
        },
        "outputId": "40718f68-e353-4dab-e688-b0e7be17bace"
      },
      "source": [
        "def get_initial(name):\n",
        "  initial = name[0:1]\n",
        "  return initial.upper()\n",
        "\n",
        "first_name = input(\"First Name?\")\n",
        "last_name = input(\"Last Name?\")\n",
        "\n",
        "fn_initial = get_initial(first_name)\n",
        "ln_initial = get_initial(last_name)\n",
        "\n",
        "print(f\"Your initials are : {fn_initial}{ln_initial}\")\n",
        "print()\n",
        "print(f\"Your initials are : {get_initial(first_name)}{get_initial(last_name)}\")"
      ],
      "execution_count": 12,
      "outputs": [
        {
          "output_type": "stream",
          "text": [
            "First Name?qwede\n",
            "Last Name?adwwcd\n",
            "Your initials are : QA\n",
            "\n",
            "Your initials are : QA\n"
          ],
          "name": "stdout"
        }
      ]
    },
    {
      "cell_type": "markdown",
      "metadata": {
        "id": "e7cLFEEAgnYw",
        "colab_type": "text"
      },
      "source": [
        "# Function Parameters"
      ]
    },
    {
      "cell_type": "code",
      "metadata": {
        "id": "dDthHltIfeca",
        "colab_type": "code",
        "colab": {
          "base_uri": "https://localhost:8080/",
          "height": 52
        },
        "outputId": "aef9963a-8e73-4c66-b02d-61f4bbe0d6ec"
      },
      "source": [
        "def get_initial(name):\n",
        "  initial = name[0:1]\n",
        "  return initial.upper()\n",
        "\n",
        "first_name = input(\"First Name?\")\n",
        "\n",
        "print(f\"Your initials are : {get_initial(first_name)}\")"
      ],
      "execution_count": 14,
      "outputs": [
        {
          "output_type": "stream",
          "text": [
            "First Name?qwerty\n",
            "Your initials are : Q\n"
          ],
          "name": "stdout"
        }
      ]
    },
    {
      "cell_type": "code",
      "metadata": {
        "id": "hRTwLNA9g1pY",
        "colab_type": "code",
        "colab": {
          "base_uri": "https://localhost:8080/",
          "height": 52
        },
        "outputId": "8100e919-3b1d-4e57-d547-35b989868c50"
      },
      "source": [
        "def get_initial(name, force_upper):\n",
        "  if force_upper:\n",
        "    initial = name[0:1].upper()\n",
        "  else:\n",
        "    initial = name[0:1]\n",
        "  return initial\n",
        "\n",
        "first_name = input(\"First Name?\")\n",
        "\n",
        "print(f\"Your initials are : {get_initial(first_name, True)}\") # Change True / False to force_upper"
      ],
      "execution_count": 16,
      "outputs": [
        {
          "output_type": "stream",
          "text": [
            "First Name?asd\n",
            "Your initials are : A\n"
          ],
          "name": "stdout"
        }
      ]
    },
    {
      "cell_type": "code",
      "metadata": {
        "id": "nX7pOQg_hhhN",
        "colab_type": "code",
        "colab": {
          "base_uri": "https://localhost:8080/",
          "height": 141
        },
        "outputId": "5612902e-e4b9-40d8-b584-7ecbd60bf92b"
      },
      "source": [
        "def get_initial(name, force_upper = True): # Default value set here to True\n",
        "  if force_upper:\n",
        "    initial = name[0:1].upper()\n",
        "  else:\n",
        "    initial = name[0:1]\n",
        "  return initial\n",
        "\n",
        "first_name = input(\"First Name?\")\n",
        "print()\n",
        "print(f\"Your initials are : {get_initial(first_name)}\")\n",
        "print()\n",
        "print(f\"Your initials are : {get_initial(first_name, False)}\") # Default value overriden\n",
        "print()\n",
        "print(f\"Your initials are : {get_initial(force_upper=False, name=first_name)}\") # Default value and order got overriden - Named Notation"
      ],
      "execution_count": 20,
      "outputs": [
        {
          "output_type": "stream",
          "text": [
            "First Name?asdfg\n",
            "\n",
            "Your initials are : A\n",
            "\n",
            "Your initials are : a\n",
            "\n",
            "Your initials are : a\n"
          ],
          "name": "stdout"
        }
      ]
    },
    {
      "cell_type": "markdown",
      "metadata": {
        "id": "LLI6FTNWi8bU",
        "colab_type": "text"
      },
      "source": [
        "# Modules and Packages"
      ]
    },
    {
      "cell_type": "code",
      "metadata": {
        "id": "L_cnKBOxh0PO",
        "colab_type": "code",
        "colab": {}
      },
      "source": [
        "#  helper.py\n",
        " def display(message, is_warning=False):\n",
        "    if is_warning:\n",
        "        print('Warning!!')\n",
        "    print(message)"
      ],
      "execution_count": 0,
      "outputs": []
    },
    {
      "cell_type": "code",
      "metadata": {
        "id": "jv_-iFTflnAX",
        "colab_type": "code",
        "colab": {}
      },
      "source": [
        "# import module as namespace\n",
        "import helpers\n",
        "helpers.display('Not a warning')\n",
        "\n",
        "# import all into current namespace\n",
        "from helpers import *\n",
        "display('Not a warning')\n",
        "\n",
        "# import specific items into current namespace\n",
        "from helpers import display\n",
        "display('Not a warning')"
      ],
      "execution_count": 0,
      "outputs": []
    },
    {
      "cell_type": "code",
      "metadata": {
        "id": "8su-CrDnmHi7",
        "colab_type": "code",
        "colab": {
          "base_uri": "https://localhost:8080/",
          "height": 88
        },
        "outputId": "d5b8b934-b82a-462e-f5a2-c2edddb1647a"
      },
      "source": [
        "!pip install colorama"
      ],
      "execution_count": 23,
      "outputs": [
        {
          "output_type": "stream",
          "text": [
            "Collecting colorama\n",
            "  Downloading https://files.pythonhosted.org/packages/c9/dc/45cdef1b4d119eb96316b3117e6d5708a08029992b2fee2c143c7a0a5cc5/colorama-0.4.3-py2.py3-none-any.whl\n",
            "Installing collected packages: colorama\n",
            "Successfully installed colorama-0.4.3\n"
          ],
          "name": "stdout"
        }
      ]
    },
    {
      "cell_type": "code",
      "metadata": {
        "id": "V6_eqi0rltSE",
        "colab_type": "code",
        "colab": {
          "base_uri": "https://localhost:8080/",
          "height": 70
        },
        "outputId": "10f7ce14-ce96-479e-dc9e-d5e657ecc26b"
      },
      "source": [
        "import colorama\n",
        "\n",
        "colorama.init()\n",
        "print(colorama.Fore.RED + 'This is red')\n",
        "\n",
        "from colorama import *\n",
        "\n",
        "init()\n",
        "print(Fore.BLUE + 'This is blue')\n",
        "\n",
        "from colorama import init, Fore\n",
        "print(Fore.GREEN + 'This is green')"
      ],
      "execution_count": 24,
      "outputs": [
        {
          "output_type": "stream",
          "text": [
            "This is red\n",
            "This is blue\n",
            "This is green\n"
          ],
          "name": "stdout"
        }
      ]
    },
    {
      "cell_type": "code",
      "metadata": {
        "id": "EHkBnEdimYEV",
        "colab_type": "code",
        "colab": {}
      },
      "source": [
        ""
      ],
      "execution_count": 0,
      "outputs": []
    }
  ]
}