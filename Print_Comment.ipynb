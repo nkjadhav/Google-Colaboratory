{
  "nbformat": 4,
  "nbformat_minor": 0,
  "metadata": {
    "colab": {
      "name": "Print - Comment.ipynb",
      "provenance": [],
      "collapsed_sections": [],
      "authorship_tag": "ABX9TyPR+9DIICRCon0BPUBx0Vkk",
      "include_colab_link": true
    },
    "kernelspec": {
      "name": "python3",
      "display_name": "Python 3"
    }
  },
  "cells": [
    {
      "cell_type": "markdown",
      "metadata": {
        "id": "view-in-github",
        "colab_type": "text"
      },
      "source": [
        "<a href=\"https://colab.research.google.com/github/nkjadhav/Google-Colaboratory/blob/master/Print_Comment.ipynb\" target=\"_parent\"><img src=\"https://colab.research.google.com/assets/colab-badge.svg\" alt=\"Open In Colab\"/></a>"
      ]
    },
    {
      "cell_type": "markdown",
      "metadata": {
        "id": "5b4s4Prdn5zu",
        "colab_type": "text"
      },
      "source": [
        "# Print"
      ]
    },
    {
      "cell_type": "code",
      "metadata": {
        "id": "sgp7ChKBdnAp",
        "colab_type": "code",
        "colab": {
          "base_uri": "https://localhost:8080/",
          "height": 34
        },
        "outputId": "f418e844-20b7-45bd-ec6f-c38fde054e05"
      },
      "source": [
        "print('Hello with single quote.')"
      ],
      "execution_count": 7,
      "outputs": [
        {
          "output_type": "stream",
          "text": [
            "Hello with single quote.\n"
          ],
          "name": "stdout"
        }
      ]
    },
    {
      "cell_type": "code",
      "metadata": {
        "id": "EemV0B_bdal-",
        "colab_type": "code",
        "colab": {
          "base_uri": "https://localhost:8080/",
          "height": 34
        },
        "outputId": "d97f5fb0-6f30-4d43-ec40-698241ba69af"
      },
      "source": [
        "print(\"Hello with double quote.\")"
      ],
      "execution_count": 8,
      "outputs": [
        {
          "output_type": "stream",
          "text": [
            "Hello with double quote.\n"
          ],
          "name": "stdout"
        }
      ]
    },
    {
      "cell_type": "code",
      "metadata": {
        "id": "jPmkuc-lddYy",
        "colab_type": "code",
        "colab": {
          "base_uri": "https://localhost:8080/",
          "height": 50
        },
        "outputId": "1bbf9afa-c1f7-4d03-e2c5-b8b53dd24aad"
      },
      "source": [
        "print(\"Hello \\nWorld..\")"
      ],
      "execution_count": 9,
      "outputs": [
        {
          "output_type": "stream",
          "text": [
            "Hello \n",
            "World..\n"
          ],
          "name": "stdout"
        }
      ]
    },
    {
      "cell_type": "code",
      "metadata": {
        "id": "bxZWFkjzdhOo",
        "colab_type": "code",
        "colab": {
          "base_uri": "https://localhost:8080/",
          "height": 84
        },
        "outputId": "f5e185be-6253-4286-aa67-da931fdb7427"
      },
      "source": [
        "name = input(\"What is your name :\")\n",
        "print(name)\n",
        "print() # New Line\n",
        "print(name)"
      ],
      "execution_count": 17,
      "outputs": [
        {
          "output_type": "stream",
          "text": [
            "What is your name :NJ\n",
            "NJ\n",
            "\n",
            "NJ\n"
          ],
          "name": "stdout"
        }
      ]
    },
    {
      "cell_type": "code",
      "metadata": {
        "id": "ZYasySDJeiFo",
        "colab_type": "code",
        "colab": {
          "base_uri": "https://localhost:8080/",
          "height": 246
        },
        "outputId": "f4410652-6633-4402-c564-63b0c13964d4"
      },
      "source": [
        "# Debugging with print\n",
        "print(\"Adding Numbers\")\n",
        "x = 2+3\n",
        "print(\"Performing Division\")\n",
        "y = x / 0 # Intentionally dividing with zero.\n",
        "print(\"Completed\")"
      ],
      "execution_count": 15,
      "outputs": [
        {
          "output_type": "stream",
          "text": [
            "Adding Numbers\n",
            "Performing Division\n"
          ],
          "name": "stdout"
        },
        {
          "output_type": "error",
          "ename": "ZeroDivisionError",
          "evalue": "ignored",
          "traceback": [
            "\u001b[0;31m---------------------------------------------------------------------------\u001b[0m",
            "\u001b[0;31mZeroDivisionError\u001b[0m                         Traceback (most recent call last)",
            "\u001b[0;32m<ipython-input-15-c9e27e4e313c>\u001b[0m in \u001b[0;36m<module>\u001b[0;34m()\u001b[0m\n\u001b[1;32m      2\u001b[0m \u001b[0mx\u001b[0m \u001b[0;34m=\u001b[0m \u001b[0;36m2\u001b[0m\u001b[0;34m+\u001b[0m\u001b[0;36m3\u001b[0m\u001b[0;34m\u001b[0m\u001b[0;34m\u001b[0m\u001b[0m\n\u001b[1;32m      3\u001b[0m \u001b[0mprint\u001b[0m\u001b[0;34m(\u001b[0m\u001b[0;34m\"Performing Division\"\u001b[0m\u001b[0;34m)\u001b[0m\u001b[0;34m\u001b[0m\u001b[0;34m\u001b[0m\u001b[0m\n\u001b[0;32m----> 4\u001b[0;31m \u001b[0my\u001b[0m \u001b[0;34m=\u001b[0m \u001b[0mx\u001b[0m \u001b[0;34m/\u001b[0m \u001b[0;36m0\u001b[0m \u001b[0;31m# Intentionally dividing with zero.\u001b[0m\u001b[0;34m\u001b[0m\u001b[0;34m\u001b[0m\u001b[0m\n\u001b[0m\u001b[1;32m      5\u001b[0m \u001b[0mprint\u001b[0m\u001b[0;34m(\u001b[0m\u001b[0;34m\"Completed\"\u001b[0m\u001b[0;34m)\u001b[0m\u001b[0;34m\u001b[0m\u001b[0;34m\u001b[0m\u001b[0m\n",
            "\u001b[0;31mZeroDivisionError\u001b[0m: division by zero"
          ]
        }
      ]
    },
    {
      "cell_type": "code",
      "metadata": {
        "colab_type": "code",
        "outputId": "13edca5c-4e76-4c6b-a1f8-8a2f34f00aad",
        "id": "H87hAybne9ff",
        "colab": {
          "base_uri": "https://localhost:8080/",
          "height": 67
        }
      },
      "source": [
        "print(\"Adding Numbers\")\n",
        "x = 2+3\n",
        "print(\"Performing Division\")\n",
        "y = x / 1\n",
        "print(\"Completed\")"
      ],
      "execution_count": 14,
      "outputs": [
        {
          "output_type": "stream",
          "text": [
            "Adding Numbers\n",
            "Performing Division\n",
            "Completed\n"
          ],
          "name": "stdout"
        }
      ]
    },
    {
      "cell_type": "code",
      "metadata": {
        "id": "hGz5IDsbfAPg",
        "colab_type": "code",
        "colab": {
          "base_uri": "https://localhost:8080/",
          "height": 34
        },
        "outputId": "ce7ae355-382a-4002-82d3-adb125ef3bbb"
      },
      "source": [
        "print(type(name))"
      ],
      "execution_count": 18,
      "outputs": [
        {
          "output_type": "stream",
          "text": [
            "<class 'str'>\n"
          ],
          "name": "stdout"
        }
      ]
    },
    {
      "cell_type": "code",
      "metadata": {
        "id": "mEYdnCfqgZKp",
        "colab_type": "code",
        "colab": {
          "base_uri": "https://localhost:8080/",
          "height": 34
        },
        "outputId": "1847d62b-88d5-42ea-b00e-1b743a4b53a2"
      },
      "source": [
        "print(type(x))"
      ],
      "execution_count": 19,
      "outputs": [
        {
          "output_type": "stream",
          "text": [
            "<class 'int'>\n"
          ],
          "name": "stdout"
        }
      ]
    },
    {
      "cell_type": "code",
      "metadata": {
        "id": "yZwLPNc-gdEj",
        "colab_type": "code",
        "colab": {
          "base_uri": "https://localhost:8080/",
          "height": 34
        },
        "outputId": "f109205f-21e4-41a8-c0ac-272bf8dcccbe"
      },
      "source": [
        "x = 'Hello' + ' ' + 'World!'\n",
        "print(x) # outputs: Hello World!"
      ],
      "execution_count": 20,
      "outputs": [
        {
          "output_type": "stream",
          "text": [
            "Hello World!\n"
          ],
          "name": "stdout"
        }
      ]
    },
    {
      "cell_type": "markdown",
      "metadata": {
        "id": "NXtkiOkkoGm0",
        "colab_type": "text"
      },
      "source": [
        "# Comment"
      ]
    },
    {
      "cell_type": "code",
      "metadata": {
        "id": "iqsZXqFdglJZ",
        "colab_type": "code",
        "colab": {
          "base_uri": "https://localhost:8080/",
          "height": 34
        },
        "outputId": "d41c80e2-d48b-41e0-de3e-4af296d5a6e4"
      },
      "source": [
        "# I am a comment...\n",
        "x = 1   # the rest of the line is a comment\n",
        "        # ... and this is a 3rd comment\n",
        "text = \"# But this isn't a comment because it's a string literal and in quotes.\"\n",
        "text\n",
        "# This is a comment\n",
        "# that crosses multiple lines"
      ],
      "execution_count": 22,
      "outputs": [
        {
          "output_type": "execute_result",
          "data": {
            "text/plain": [
              "\"# But this isn't a comment because it's a string literal and in quotes.\""
            ]
          },
          "metadata": {
            "tags": []
          },
          "execution_count": 22
        }
      ]
    },
    {
      "cell_type": "markdown",
      "metadata": {
        "id": "cLbGe-Q-oNWM",
        "colab_type": "text"
      },
      "source": [
        "# String"
      ]
    },
    {
      "cell_type": "code",
      "metadata": {
        "id": "or78M-UOgve9",
        "colab_type": "code",
        "colab": {
          "base_uri": "https://localhost:8080/",
          "height": 34
        },
        "outputId": "06fea98f-dd84-4e65-93f3-0c480592b249"
      },
      "source": [
        "x = 5\n",
        "print('The number is ' + str(x))"
      ],
      "execution_count": 23,
      "outputs": [
        {
          "output_type": "stream",
          "text": [
            "The number is 5\n"
          ],
          "name": "stdout"
        }
      ]
    },
    {
      "cell_type": "code",
      "metadata": {
        "id": "sLn3i32NhAUl",
        "colab_type": "code",
        "colab": {}
      },
      "source": [
        "first_name = \"Nilkanth\"\n",
        "last_name = \"JADHAV\""
      ],
      "execution_count": 0,
      "outputs": []
    },
    {
      "cell_type": "code",
      "metadata": {
        "id": "Du4jxRapk4DB",
        "colab_type": "code",
        "colab": {
          "base_uri": "https://localhost:8080/",
          "height": 34
        },
        "outputId": "8fb1d993-8d82-4bae-953b-056cd1a16357"
      },
      "source": [
        "first_name.upper()"
      ],
      "execution_count": 25,
      "outputs": [
        {
          "output_type": "execute_result",
          "data": {
            "text/plain": [
              "'NILKANTH'"
            ]
          },
          "metadata": {
            "tags": []
          },
          "execution_count": 25
        }
      ]
    },
    {
      "cell_type": "code",
      "metadata": {
        "id": "mnW2-fkok73M",
        "colab_type": "code",
        "colab": {
          "base_uri": "https://localhost:8080/",
          "height": 34
        },
        "outputId": "dd9a5088-b2cb-4159-f6ef-c2aed29806e6"
      },
      "source": [
        "last_name.lower()"
      ],
      "execution_count": 26,
      "outputs": [
        {
          "output_type": "execute_result",
          "data": {
            "text/plain": [
              "'jadhav'"
            ]
          },
          "metadata": {
            "tags": []
          },
          "execution_count": 26
        }
      ]
    },
    {
      "cell_type": "code",
      "metadata": {
        "id": "YGdWByvYlAov",
        "colab_type": "code",
        "colab": {
          "base_uri": "https://localhost:8080/",
          "height": 34
        },
        "outputId": "decd8aab-5b84-4bce-d336-d8740564226d"
      },
      "source": [
        "first_name.capitalize() + \" \" + last_name.capitalize()"
      ],
      "execution_count": 27,
      "outputs": [
        {
          "output_type": "execute_result",
          "data": {
            "text/plain": [
              "'Nilkanth Jadhav'"
            ]
          },
          "metadata": {
            "tags": []
          },
          "execution_count": 27
        }
      ]
    },
    {
      "cell_type": "code",
      "metadata": {
        "id": "C4_m7hgWnIUy",
        "colab_type": "code",
        "colab": {
          "base_uri": "https://localhost:8080/",
          "height": 34
        },
        "outputId": "037d89b7-8883-4a34-849f-7b8c2e3fd55f"
      },
      "source": [
        "print(\"Hello, \" + first_name + \" \" + last_name)"
      ],
      "execution_count": 29,
      "outputs": [
        {
          "output_type": "stream",
          "text": [
            "Hello, Nilkanth JADHAV\n"
          ],
          "name": "stdout"
        }
      ]
    },
    {
      "cell_type": "code",
      "metadata": {
        "id": "OMu_b4acnX4A",
        "colab_type": "code",
        "colab": {
          "base_uri": "https://localhost:8080/",
          "height": 34
        },
        "outputId": "ab04787a-f6e4-4c95-e124-ebce1e667383"
      },
      "source": [
        "output = \"Hello, {} {}\".format(first_name, last_name)\n",
        "print(output)"
      ],
      "execution_count": 33,
      "outputs": [
        {
          "output_type": "stream",
          "text": [
            "Hello, Nilkanth JADHAV\n"
          ],
          "name": "stdout"
        }
      ]
    },
    {
      "cell_type": "code",
      "metadata": {
        "id": "K50N0FfWolLY",
        "colab_type": "code",
        "colab": {
          "base_uri": "https://localhost:8080/",
          "height": 34
        },
        "outputId": "370105ed-1012-4bb4-972d-dbf8346b6e51"
      },
      "source": [
        "output = \"Hello, {1}, {0}\".format(first_name, last_name)\n",
        "print(output)"
      ],
      "execution_count": 35,
      "outputs": [
        {
          "output_type": "stream",
          "text": [
            "Hello, JADHAV, Nilkanth\n"
          ],
          "name": "stdout"
        }
      ]
    },
    {
      "cell_type": "code",
      "metadata": {
        "id": "LmhqtW_HpHUY",
        "colab_type": "code",
        "colab": {
          "base_uri": "https://localhost:8080/",
          "height": 34
        },
        "outputId": "c7d50868-f533-4a6c-fff8-ce98ee5aeb4b"
      },
      "source": [
        "f\"Hello, {first_name} {last_name}\""
      ],
      "execution_count": 37,
      "outputs": [
        {
          "output_type": "execute_result",
          "data": {
            "text/plain": [
              "'Hello, Nilkanth JADHAV'"
            ]
          },
          "metadata": {
            "tags": []
          },
          "execution_count": 37
        }
      ]
    },
    {
      "cell_type": "code",
      "metadata": {
        "id": "Cd07wsQ6lJWb",
        "colab_type": "code",
        "colab": {
          "base_uri": "https://localhost:8080/",
          "height": 34
        },
        "outputId": "5ae1894e-0421-4478-abf8-051f77ed8be5"
      },
      "source": [
        "output = f\"Hello, {first_name} {last_name}\"\n",
        "print(output)"
      ],
      "execution_count": 38,
      "outputs": [
        {
          "output_type": "stream",
          "text": [
            "Hello, Nilkanth JADHAV\n"
          ],
          "name": "stdout"
        }
      ]
    },
    {
      "cell_type": "markdown",
      "metadata": {
        "id": "Y9q1TnwqpRZI",
        "colab_type": "text"
      },
      "source": [
        "# Numbers"
      ]
    },
    {
      "cell_type": "code",
      "metadata": {
        "id": "qnc0CrSlnlBP",
        "colab_type": "code",
        "colab": {
          "base_uri": "https://localhost:8080/",
          "height": 34
        },
        "outputId": "ee4377c7-9905-44f9-8bfa-033e9dfe754d"
      },
      "source": [
        "pi = 3.14159\n",
        "print(pi)"
      ],
      "execution_count": 39,
      "outputs": [
        {
          "output_type": "stream",
          "text": [
            "3.14159\n"
          ],
          "name": "stdout"
        }
      ]
    },
    {
      "cell_type": "code",
      "metadata": {
        "id": "87rQ8E3ppZ3q",
        "colab_type": "code",
        "colab": {
          "base_uri": "https://localhost:8080/",
          "height": 50
        },
        "outputId": "96e0d229-336f-4528-dc2a-1ac5e54f1cff"
      },
      "source": [
        "first_num = 6\n",
        "second_num = 2\n",
        "print(first_num + second_num)\n",
        "print(first_num ** second_num)"
      ],
      "execution_count": 42,
      "outputs": [
        {
          "output_type": "stream",
          "text": [
            "8\n",
            "36\n"
          ],
          "name": "stdout"
        }
      ]
    },
    {
      "cell_type": "code",
      "metadata": {
        "id": "h89vN30apor1",
        "colab_type": "code",
        "colab": {
          "base_uri": "https://localhost:8080/",
          "height": 195
        },
        "outputId": "c420fe74-6c73-43a2-f4d4-c16696cc00b7"
      },
      "source": [
        "days_in_feb = 28\n",
        "print(days_in_feb + ' days in feb')\n",
        "# Python gets confused on diffrent data type operations and throws error."
      ],
      "execution_count": 45,
      "outputs": [
        {
          "output_type": "error",
          "ename": "TypeError",
          "evalue": "ignored",
          "traceback": [
            "\u001b[0;31m---------------------------------------------------------------------------\u001b[0m",
            "\u001b[0;31mTypeError\u001b[0m                                 Traceback (most recent call last)",
            "\u001b[0;32m<ipython-input-45-7a3e2eb830db>\u001b[0m in \u001b[0;36m<module>\u001b[0;34m()\u001b[0m\n\u001b[1;32m      1\u001b[0m \u001b[0mdays_in_feb\u001b[0m \u001b[0;34m=\u001b[0m \u001b[0;36m28\u001b[0m\u001b[0;34m\u001b[0m\u001b[0;34m\u001b[0m\u001b[0m\n\u001b[0;32m----> 2\u001b[0;31m \u001b[0mprint\u001b[0m\u001b[0;34m(\u001b[0m\u001b[0mdays_in_feb\u001b[0m \u001b[0;34m+\u001b[0m \u001b[0;34m' days in feb'\u001b[0m\u001b[0;34m)\u001b[0m\u001b[0;34m\u001b[0m\u001b[0;34m\u001b[0m\u001b[0m\n\u001b[0m\u001b[1;32m      3\u001b[0m \u001b[0;31m# Python gets confused on diffrent data type operations and throws error.\u001b[0m\u001b[0;34m\u001b[0m\u001b[0;34m\u001b[0m\u001b[0;34m\u001b[0m\u001b[0m\n",
            "\u001b[0;31mTypeError\u001b[0m: unsupported operand type(s) for +: 'int' and 'str'"
          ]
        }
      ]
    },
    {
      "cell_type": "code",
      "metadata": {
        "id": "UTUGwG4WqHV5",
        "colab_type": "code",
        "colab": {
          "base_uri": "https://localhost:8080/",
          "height": 34
        },
        "outputId": "c41efbad-3c77-45ed-ee3d-0805404ef98b"
      },
      "source": [
        "days_in_feb = 28\n",
        "print(str(days_in_feb) + ' days in feb')\n",
        "# typecast"
      ],
      "execution_count": 46,
      "outputs": [
        {
          "output_type": "stream",
          "text": [
            "28 days in feb\n"
          ],
          "name": "stdout"
        }
      ]
    },
    {
      "cell_type": "code",
      "metadata": {
        "id": "Zokr1EowqbQX",
        "colab_type": "code",
        "colab": {
          "base_uri": "https://localhost:8080/",
          "height": 67
        },
        "outputId": "487770b3-2531-4e08-dcb1-f1507153aadb"
      },
      "source": [
        "first_num = \"6\"\n",
        "second_num = \"2\"\n",
        "print(first_num + second_num)\n",
        "print(int(first_num) + int(second_num))\n",
        "print(float(first_num) + float(second_num))"
      ],
      "execution_count": 48,
      "outputs": [
        {
          "output_type": "stream",
          "text": [
            "62\n",
            "8\n",
            "8.0\n"
          ],
          "name": "stdout"
        }
      ]
    },
    {
      "cell_type": "code",
      "metadata": {
        "id": "gaSGm4Srqndu",
        "colab_type": "code",
        "colab": {
          "base_uri": "https://localhost:8080/",
          "height": 101
        },
        "outputId": "839a4fcf-84d4-456c-9445-0822eddafaf4"
      },
      "source": [
        "# input function assigns variable with string\n",
        "first_num = input(\"Enter first number\")\n",
        "second_num = input(\"Enter second number\")\n",
        "print(first_num + second_num)\n",
        "print(int(first_num) + int(second_num))\n",
        "print(float(first_num) + float(second_num))"
      ],
      "execution_count": 51,
      "outputs": [
        {
          "output_type": "stream",
          "text": [
            "Enter first number12\n",
            "Enter second number34\n",
            "1234\n",
            "46\n",
            "46.0\n"
          ],
          "name": "stdout"
        }
      ]
    },
    {
      "cell_type": "markdown",
      "metadata": {
        "id": "sccVAzxutl3n",
        "colab_type": "text"
      },
      "source": [
        "# Date and Time"
      ]
    },
    {
      "cell_type": "code",
      "metadata": {
        "id": "PxlJ5PTFtnhw",
        "colab_type": "code",
        "colab": {
          "base_uri": "https://localhost:8080/",
          "height": 34
        },
        "outputId": "270d04ed-e6a5-49c9-979b-1684d736f7c3"
      },
      "source": [
        "from datetime import datetime\n",
        "current_date = datetime.now()\n",
        "print(\"Today is : \" + str(current_date))"
      ],
      "execution_count": 52,
      "outputs": [
        {
          "output_type": "stream",
          "text": [
            "Today is : 2020-02-15 07:20:17.493599\n"
          ],
          "name": "stdout"
        }
      ]
    },
    {
      "cell_type": "code",
      "metadata": {
        "id": "SKMO4Ln9uDIO",
        "colab_type": "code",
        "colab": {
          "base_uri": "https://localhost:8080/",
          "height": 50
        },
        "outputId": "b00785b2-b35f-448c-b488-ed2eaf10622e"
      },
      "source": [
        "from datetime import datetime, timedelta\n",
        "today = datetime.now()\n",
        "print(\"Today is : \" + str(today))\n",
        "\n",
        "one_day = timedelta(days = 1)\n",
        "yesterday = today - one_day\n",
        "print(\"Yesterday was : \" + str(yesterday))"
      ],
      "execution_count": 58,
      "outputs": [
        {
          "output_type": "stream",
          "text": [
            "Today is : 2020-02-15 07:24:15.375062\n",
            "Yesterday was : 2020-02-14 07:24:15.375062\n"
          ],
          "name": "stdout"
        }
      ]
    },
    {
      "cell_type": "code",
      "metadata": {
        "id": "kDzGjeq7uc1D",
        "colab_type": "code",
        "colab": {
          "base_uri": "https://localhost:8080/",
          "height": 118
        },
        "outputId": "c44092be-ef47-456e-c07d-6d6c02218c34"
      },
      "source": [
        "from datetime import datetime\n",
        "current_date = datetime.now()\n",
        "\n",
        "print(\"Day :\" + str(current_date.day))\n",
        "print(\"Month :\" + str(current_date.month))\n",
        "print(\"Year :\" + str(current_date.year))\n",
        "print(\"Hour : \" + str(current_date.hour))\n",
        "print(\"Minute : \" + str(current_date.minute))\n",
        "print(\"Second : \" + str(current_date.second))"
      ],
      "execution_count": 67,
      "outputs": [
        {
          "output_type": "stream",
          "text": [
            "Day :15\n",
            "Month :2\n",
            "Year :2020\n",
            "Hour : 7\n",
            "Minute : 36\n",
            "Second : 37\n"
          ],
          "name": "stdout"
        }
      ]
    },
    {
      "cell_type": "code",
      "metadata": {
        "id": "Ws7LFKMcva-n",
        "colab_type": "code",
        "colab": {
          "base_uri": "https://localhost:8080/",
          "height": 50
        },
        "outputId": "c725bfbc-8d9d-4666-b3a6-41371bcbb583"
      },
      "source": [
        "from datetime import datetime\n",
        "birthday = input(\"When is your birthday (dd/mm/yyyy)\")\n",
        "\n",
        "birthday_date = datetime.strptime(birthday, \"%d/%m/%Y\")\n",
        "print(\"Birthday :\" + str(birthday_date))"
      ],
      "execution_count": 61,
      "outputs": [
        {
          "output_type": "stream",
          "text": [
            "When is your birthday (dd/mm/yyyy)15/12/1989\n",
            "Birthday :1989-12-15 00:00:00\n"
          ],
          "name": "stdout"
        }
      ]
    },
    {
      "cell_type": "code",
      "metadata": {
        "id": "XWxh8u1nwQFY",
        "colab_type": "code",
        "colab": {
          "base_uri": "https://localhost:8080/",
          "height": 67
        },
        "outputId": "541e4645-5c9e-4145-b219-d1100237b71c"
      },
      "source": [
        "from datetime import datetime\n",
        "birthday = input(\"When is your birthday (dd/mm/yyyy)\")\n",
        "\n",
        "birthday_date = datetime.strptime(birthday, \"%d/%m/%Y\")\n",
        "print(\"Birthday :\" + str(birthday_date))\n",
        "\n",
        "one_day = timedelta(days = 1)\n",
        "yesterday = birthday_date - one_day\n",
        "print(\"Day before birthday was : \" + str(yesterday))"
      ],
      "execution_count": 64,
      "outputs": [
        {
          "output_type": "stream",
          "text": [
            "When is your birthday (dd/mm/yyyy)15/12/1989\n",
            "Birthday :1989-12-15 00:00:00\n",
            "Day before birthday was : 1989-12-14 00:00:00\n"
          ],
          "name": "stdout"
        }
      ]
    },
    {
      "cell_type": "code",
      "metadata": {
        "id": "F2KXjsSowvlR",
        "colab_type": "code",
        "colab": {
          "base_uri": "https://localhost:8080/",
          "height": 370
        },
        "outputId": "7a52bf95-389a-422c-ec89-d1edd7958aab"
      },
      "source": [
        "# When date passed is of wrong format\n",
        "from datetime import datetime\n",
        "birthday = input(\"When is your birthday (dd/mm/yyyy)\")\n",
        "\n",
        "birthday_date = datetime.strptime(birthday, \"%d/%m/%Y\")\n",
        "print(\"Birthday :\" + str(birthday_date))"
      ],
      "execution_count": 66,
      "outputs": [
        {
          "output_type": "stream",
          "text": [
            "When is your birthday (dd/mm/yyyy)12/31/1989\n"
          ],
          "name": "stdout"
        },
        {
          "output_type": "error",
          "ename": "ValueError",
          "evalue": "ignored",
          "traceback": [
            "\u001b[0;31m---------------------------------------------------------------------------\u001b[0m",
            "\u001b[0;31mValueError\u001b[0m                                Traceback (most recent call last)",
            "\u001b[0;32m<ipython-input-66-bb750a0e1097>\u001b[0m in \u001b[0;36m<module>\u001b[0;34m()\u001b[0m\n\u001b[1;32m      2\u001b[0m \u001b[0mbirthday\u001b[0m \u001b[0;34m=\u001b[0m \u001b[0minput\u001b[0m\u001b[0;34m(\u001b[0m\u001b[0;34m\"When is your birthday (dd/mm/yyyy)\"\u001b[0m\u001b[0;34m)\u001b[0m\u001b[0;34m\u001b[0m\u001b[0;34m\u001b[0m\u001b[0m\n\u001b[1;32m      3\u001b[0m \u001b[0;34m\u001b[0m\u001b[0m\n\u001b[0;32m----> 4\u001b[0;31m \u001b[0mbirthday_date\u001b[0m \u001b[0;34m=\u001b[0m \u001b[0mdatetime\u001b[0m\u001b[0;34m.\u001b[0m\u001b[0mstrptime\u001b[0m\u001b[0;34m(\u001b[0m\u001b[0mbirthday\u001b[0m\u001b[0;34m,\u001b[0m \u001b[0;34m\"%d/%m/%Y\"\u001b[0m\u001b[0;34m)\u001b[0m\u001b[0;34m\u001b[0m\u001b[0;34m\u001b[0m\u001b[0m\n\u001b[0m\u001b[1;32m      5\u001b[0m \u001b[0mprint\u001b[0m\u001b[0;34m(\u001b[0m\u001b[0;34m\"Birthday :\"\u001b[0m \u001b[0;34m+\u001b[0m \u001b[0mstr\u001b[0m\u001b[0;34m(\u001b[0m\u001b[0mbirthday_date\u001b[0m\u001b[0;34m)\u001b[0m\u001b[0;34m)\u001b[0m\u001b[0;34m\u001b[0m\u001b[0;34m\u001b[0m\u001b[0m\n",
            "\u001b[0;32m/usr/lib/python3.6/_strptime.py\u001b[0m in \u001b[0;36m_strptime_datetime\u001b[0;34m(cls, data_string, format)\u001b[0m\n\u001b[1;32m    563\u001b[0m     \"\"\"Return a class cls instance based on the input string and the\n\u001b[1;32m    564\u001b[0m     format string.\"\"\"\n\u001b[0;32m--> 565\u001b[0;31m     \u001b[0mtt\u001b[0m\u001b[0;34m,\u001b[0m \u001b[0mfraction\u001b[0m \u001b[0;34m=\u001b[0m \u001b[0m_strptime\u001b[0m\u001b[0;34m(\u001b[0m\u001b[0mdata_string\u001b[0m\u001b[0;34m,\u001b[0m \u001b[0mformat\u001b[0m\u001b[0;34m)\u001b[0m\u001b[0;34m\u001b[0m\u001b[0;34m\u001b[0m\u001b[0m\n\u001b[0m\u001b[1;32m    566\u001b[0m     \u001b[0mtzname\u001b[0m\u001b[0;34m,\u001b[0m \u001b[0mgmtoff\u001b[0m \u001b[0;34m=\u001b[0m \u001b[0mtt\u001b[0m\u001b[0;34m[\u001b[0m\u001b[0;34m-\u001b[0m\u001b[0;36m2\u001b[0m\u001b[0;34m:\u001b[0m\u001b[0;34m]\u001b[0m\u001b[0;34m\u001b[0m\u001b[0;34m\u001b[0m\u001b[0m\n\u001b[1;32m    567\u001b[0m     \u001b[0margs\u001b[0m \u001b[0;34m=\u001b[0m \u001b[0mtt\u001b[0m\u001b[0;34m[\u001b[0m\u001b[0;34m:\u001b[0m\u001b[0;36m6\u001b[0m\u001b[0;34m]\u001b[0m \u001b[0;34m+\u001b[0m \u001b[0;34m(\u001b[0m\u001b[0mfraction\u001b[0m\u001b[0;34m,\u001b[0m\u001b[0;34m)\u001b[0m\u001b[0;34m\u001b[0m\u001b[0;34m\u001b[0m\u001b[0m\n",
            "\u001b[0;32m/usr/lib/python3.6/_strptime.py\u001b[0m in \u001b[0;36m_strptime\u001b[0;34m(data_string, format)\u001b[0m\n\u001b[1;32m    360\u001b[0m     \u001b[0;32mif\u001b[0m \u001b[0;32mnot\u001b[0m \u001b[0mfound\u001b[0m\u001b[0;34m:\u001b[0m\u001b[0;34m\u001b[0m\u001b[0;34m\u001b[0m\u001b[0m\n\u001b[1;32m    361\u001b[0m         raise ValueError(\"time data %r does not match format %r\" %\n\u001b[0;32m--> 362\u001b[0;31m                          (data_string, format))\n\u001b[0m\u001b[1;32m    363\u001b[0m     \u001b[0;32mif\u001b[0m \u001b[0mlen\u001b[0m\u001b[0;34m(\u001b[0m\u001b[0mdata_string\u001b[0m\u001b[0;34m)\u001b[0m \u001b[0;34m!=\u001b[0m \u001b[0mfound\u001b[0m\u001b[0;34m.\u001b[0m\u001b[0mend\u001b[0m\u001b[0;34m(\u001b[0m\u001b[0;34m)\u001b[0m\u001b[0;34m:\u001b[0m\u001b[0;34m\u001b[0m\u001b[0;34m\u001b[0m\u001b[0m\n\u001b[1;32m    364\u001b[0m         raise ValueError(\"unconverted data remains: %s\" %\n",
            "\u001b[0;31mValueError\u001b[0m: time data '12/31/1989' does not match format '%d/%m/%Y'"
          ]
        }
      ]
    },
    {
      "cell_type": "markdown",
      "metadata": {
        "id": "MPttPRtOzLxR",
        "colab_type": "text"
      },
      "source": [
        "# Error Handling"
      ]
    },
    {
      "cell_type": "markdown",
      "metadata": {
        "id": "_WRM5522zsVs",
        "colab_type": "text"
      },
      "source": [
        "## Syntax Error"
      ]
    },
    {
      "cell_type": "code",
      "metadata": {
        "id": "0Whn7E6EzxZY",
        "colab_type": "code",
        "colab": {
          "base_uri": "https://localhost:8080/",
          "height": 128
        },
        "outputId": "a27049b7-5af8-41bf-970a-880ceca1874a"
      },
      "source": [
        "x = 1\n",
        "y = 1\n",
        "if x==y # missing :\n",
        "  print(\"Success\")"
      ],
      "execution_count": 71,
      "outputs": [
        {
          "output_type": "error",
          "ename": "SyntaxError",
          "evalue": "ignored",
          "traceback": [
            "\u001b[0;36m  File \u001b[0;32m\"<ipython-input-71-c48fc7184aa8>\"\u001b[0;36m, line \u001b[0;32m3\u001b[0m\n\u001b[0;31m    if x==y # missing :\u001b[0m\n\u001b[0m                       ^\u001b[0m\n\u001b[0;31mSyntaxError\u001b[0m\u001b[0;31m:\u001b[0m invalid syntax\n"
          ]
        }
      ]
    },
    {
      "cell_type": "code",
      "metadata": {
        "id": "50bsR5tuz5z1",
        "colab_type": "code",
        "colab": {
          "base_uri": "https://localhost:8080/",
          "height": 34
        },
        "outputId": "06fd8b52-332e-4fe6-8736-8faeadac7651"
      },
      "source": [
        "x = 1\n",
        "y = 1\n",
        "if x==y: # missing :\n",
        "  print(\"Success\")"
      ],
      "execution_count": 72,
      "outputs": [
        {
          "output_type": "stream",
          "text": [
            "Success\n"
          ],
          "name": "stdout"
        }
      ]
    },
    {
      "cell_type": "markdown",
      "metadata": {
        "id": "WB5ZXyrV0DfM",
        "colab_type": "text"
      },
      "source": [
        "## Runtime Error"
      ]
    },
    {
      "cell_type": "code",
      "metadata": {
        "id": "NSglsymIz-Yf",
        "colab_type": "code",
        "colab": {
          "base_uri": "https://localhost:8080/",
          "height": 195
        },
        "outputId": "6a67b41f-94ce-4d30-d71d-ac7919e9823f"
      },
      "source": [
        "x= 1\n",
        "y= 0\n",
        "print(x/y)"
      ],
      "execution_count": 73,
      "outputs": [
        {
          "output_type": "error",
          "ename": "ZeroDivisionError",
          "evalue": "ignored",
          "traceback": [
            "\u001b[0;31m---------------------------------------------------------------------------\u001b[0m",
            "\u001b[0;31mZeroDivisionError\u001b[0m                         Traceback (most recent call last)",
            "\u001b[0;32m<ipython-input-73-81d073d41112>\u001b[0m in \u001b[0;36m<module>\u001b[0;34m()\u001b[0m\n\u001b[1;32m      1\u001b[0m \u001b[0mx\u001b[0m\u001b[0;34m=\u001b[0m \u001b[0;36m1\u001b[0m\u001b[0;34m\u001b[0m\u001b[0;34m\u001b[0m\u001b[0m\n\u001b[1;32m      2\u001b[0m \u001b[0my\u001b[0m\u001b[0;34m=\u001b[0m \u001b[0;36m0\u001b[0m\u001b[0;34m\u001b[0m\u001b[0;34m\u001b[0m\u001b[0m\n\u001b[0;32m----> 3\u001b[0;31m \u001b[0mprint\u001b[0m\u001b[0;34m(\u001b[0m\u001b[0mx\u001b[0m\u001b[0;34m/\u001b[0m\u001b[0my\u001b[0m\u001b[0;34m)\u001b[0m\u001b[0;34m\u001b[0m\u001b[0;34m\u001b[0m\u001b[0m\n\u001b[0m",
            "\u001b[0;31mZeroDivisionError\u001b[0m: division by zero"
          ]
        }
      ]
    },
    {
      "cell_type": "markdown",
      "metadata": {
        "id": "Yxq8f6WA0qsl",
        "colab_type": "text"
      },
      "source": [
        "## Logic Error"
      ]
    },
    {
      "cell_type": "code",
      "metadata": {
        "id": "NJ5tFT7N0Jco",
        "colab_type": "code",
        "colab": {
          "base_uri": "https://localhost:8080/",
          "height": 34
        },
        "outputId": "e6626458-4965-4855-8447-8596e9d2ad8e"
      },
      "source": [
        "x = 100\n",
        "y = 200\n",
        "if x<y:\n",
        "  print(str(x) + \" is greater than \" + str(y))"
      ],
      "execution_count": 74,
      "outputs": [
        {
          "output_type": "stream",
          "text": [
            "100 is greater than 200\n"
          ],
          "name": "stdout"
        }
      ]
    },
    {
      "cell_type": "markdown",
      "metadata": {
        "id": "4mevCMAC1pNR",
        "colab_type": "text"
      },
      "source": [
        "## Handling Error"
      ]
    },
    {
      "cell_type": "code",
      "metadata": {
        "id": "alywZAhh07Zf",
        "colab_type": "code",
        "colab": {
          "base_uri": "https://localhost:8080/",
          "height": 84
        },
        "outputId": "402f3a03-1716-451d-8e3c-c95df1bbe320"
      },
      "source": [
        "x =20\n",
        "y = 0\n",
        "\n",
        "print()\n",
        "try:\n",
        "  print(x/y)\n",
        "except ZeroDivisionError as e:\n",
        "  print(\"Divide by zero not allowed.\")\n",
        "else: \n",
        "  print(\"Something else went wrong.\")\n",
        "finally:\n",
        "  print(\"This is our cleanup code.\")\n",
        "print()"
      ],
      "execution_count": 81,
      "outputs": [
        {
          "output_type": "stream",
          "text": [
            "\n",
            "Divide by zero not allowed.\n",
            "This is our cleanup code.\n",
            "\n"
          ],
          "name": "stdout"
        }
      ]
    },
    {
      "cell_type": "markdown",
      "metadata": {
        "id": "auIJ4znb3uAH",
        "colab_type": "text"
      },
      "source": [
        "# Conditional Logic"
      ]
    },
    {
      "cell_type": "code",
      "metadata": {
        "id": "0HvbLhfd2tat",
        "colab_type": "code",
        "colab": {
          "base_uri": "https://localhost:8080/",
          "height": 50
        },
        "outputId": "e588792f-e0d7-4136-d046-503a1a6fa6bc"
      },
      "source": [
        "price = float(input(\"Enter price : \"))\n",
        "if price >= 10.00:\n",
        "  tax = 0.07\n",
        "  print(tax)\n",
        "else:\n",
        "  tax = 0\n",
        "  print(tax)"
      ],
      "execution_count": 82,
      "outputs": [
        {
          "output_type": "stream",
          "text": [
            "Enter price : 12\n",
            "0.07\n"
          ],
          "name": "stdout"
        }
      ]
    },
    {
      "cell_type": "code",
      "metadata": {
        "id": "c_x0vQlt4SSS",
        "colab_type": "code",
        "colab": {
          "base_uri": "https://localhost:8080/",
          "height": 50
        },
        "outputId": "4a112c71-186f-4743-f95b-cbec6d5da8fe"
      },
      "source": [
        "price = float(input(\"Enter price : \"))\n",
        "if price >= 10.00:\n",
        "  tax = 0.07\n",
        "else:\n",
        "  tax = 0\n",
        "print(tax)"
      ],
      "execution_count": 84,
      "outputs": [
        {
          "output_type": "stream",
          "text": [
            "Enter price : 6\n",
            "0\n"
          ],
          "name": "stdout"
        }
      ]
    },
    {
      "cell_type": "code",
      "metadata": {
        "id": "FNfCZX1R4b6j",
        "colab_type": "code",
        "colab": {
          "base_uri": "https://localhost:8080/",
          "height": 34
        },
        "outputId": "b46a13bd-4fcb-4e27-f5e0-b636a8352802"
      },
      "source": [
        "# String comparisons are case sensitive\n",
        "country = \"INDIA\"\n",
        "if country.lower() == \"india\":\n",
        "  print(\"You are from India.\")\n",
        "else:\n",
        " print(\"You are not from India.\")"
      ],
      "execution_count": 88,
      "outputs": [
        {
          "output_type": "stream",
          "text": [
            "You are from India.\n"
          ],
          "name": "stdout"
        }
      ]
    },
    {
      "cell_type": "code",
      "metadata": {
        "id": "zMbBMuSi5AF9",
        "colab_type": "code",
        "colab": {
          "base_uri": "https://localhost:8080/",
          "height": 34
        },
        "outputId": "45c5ca22-b481-47af-ebc6-4711edd8ecf0"
      },
      "source": [
        "country = \"US\"\n",
        "if country.lower() == \"india\":\n",
        "  print(\"You are from India.\")\n",
        "else:\n",
        " print(\"You are not from India.\")"
      ],
      "execution_count": 89,
      "outputs": [
        {
          "output_type": "stream",
          "text": [
            "You are not from India.\n"
          ],
          "name": "stdout"
        }
      ]
    },
    {
      "cell_type": "code",
      "metadata": {
        "id": "sTxjjR8_5EvP",
        "colab_type": "code",
        "colab": {}
      },
      "source": [
        ""
      ],
      "execution_count": 0,
      "outputs": []
    }
  ]
}